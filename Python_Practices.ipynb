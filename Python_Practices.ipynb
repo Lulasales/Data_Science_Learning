{
 "cells": [
  {
   "cell_type": "markdown",
   "id": "tutorial-language",
   "metadata": {},
   "source": [
    "<span style='color:brown'>Python es un lenguaje de programación ampliamente útil y orientado a objetos. Su sentido significativo junto a sus increíbles bibliotecas le han dado el respeto de ser el idioma preferido para carreras como la de un científico de datos o un experto en IA.</span>\n",
    "\n",
    "<span style='color:brown'>Python también es elegido con frecuencia como el lenguaje para la programación en escuelas y universidades debido a su facilidad de aprendizaje. Estos tutoriales instructivos sirven para ayudar a aprender Python desde cero y hasta un nivel avanzado en este lenguaje.</span>"
   ]
  },
  {
   "cell_type": "markdown",
   "id": "green-baseball",
   "metadata": {},
   "source": [
    "## Lección 1 - Introducción a la programación con Python"
   ]
  },
  {
   "cell_type": "markdown",
   "id": "fresh-ordinary",
   "metadata": {},
   "source": [
    "#### Primeros pasos con Python y Jupyter"
   ]
  },
  {
   "cell_type": "markdown",
   "id": "varying-order",
   "metadata": {},
   "source": [
    "![Operators](Basic-Operators-in-Python-blue-2.jpg)"
   ]
  },
  {
   "cell_type": "markdown",
   "id": "social-miracle",
   "metadata": {},
   "source": [
    "### Parte 1 de \"Análisis de datos con Python"
   ]
  },
  {
   "cell_type": "markdown",
   "id": "comparative-director",
   "metadata": {},
   "source": [
    "Esta serie de tutoriales es una introducción amigable para principiantes a la programación y el análisis de datos utilizando el lenguaje de programación python. Estos tutoriales toman un enfoque práctico y centrado en la codificación. La mejor manera de aprender el material es ejecutar el código y experimentar con él usted mismo. Echa un vistazo a la serie completa aquí:\n",
    "\n",
    "- Primeros pasos con Python y Jupyter\n",
    "- Un recorrido rápido por variables y tipos de datos\n",
    "- Bifurcación mediante instrucciones y bucles condicionales\n",
    "- Escribir código reutilizable mediante funciones\n",
    "- Leer y escribir a archivos\n",
    "- Computación numérica con Python y Numpy\n",
    "- Análisis de datos tabulares con pandas\n",
    "- Visualización de datos mediante Matplotlib & Seaborn\n",
    "- Análisis exploratorio de datos - Un caso de estudio\n",
    "\n",
    "En este tutorial se tratan los siguientes temas:\n",
    "\n",
    "- Realización de operaciones aritméticas con Python\n",
    "- Solución de problemas de varios pasos mediante variables\n",
    "- Evaluación de condiciones mediante Python\n",
    "- Combinación de condiciones con operadores lógicos\n",
    "- Adición de estilos de texto mediante Markdown"
   ]
  },
  {
   "cell_type": "markdown",
   "id": "authentic-champagne",
   "metadata": {},
   "source": [
    "### Realización de operaciones aritméticas con Python\n",
    "Empecemos por usar Python como una calculadora. Puedes escribir y ejecutar Python mediante una celda del tipo **código** dentro de tu cuaderno de Jupyter.\n",
    "\n",
    "<ins>Trabajar con celdas</ins>: Para crear una nueva celda dentro de Jupyter, puedes seleccionar \"Insertar > Insertar celda a continuación\" en la barra de menús o simplemente presione el botón \"+\" en la barra de herramientas.\n",
    "También puedes usar el método abreviado de teclado para crear una nueva celda (presionando la letra \"a\" para insertar una celda anterior a la seleccionada o \"b\" para insertar una celda después). Una vez creada una celda, haga clic en la misma para seleccionarla, a continuación, puede cambiar el tipo de celda a código o markdown (texto) mediante la opción de menú \"Celda > Tipo de celda\".\n",
    "Para editar el contenido la celda haga doble clic en la misma.\n",
    "Para aplicar los cambios y ejecutar una celda, utilice la opción de menú \"Celda > Ejecutar celdas\" o haga clic en el botón \"Ejecutar\" de la barra de herramientas o simplemente utilice el método abreviado de teclado (\"Ctrl + Intro\" o \"Shift + Intro\").\n",
    "Puedes ver una lista completa de métodos abreviados de teclado mediante la opción de menú \"Ayuda > Métodos abreviados de teclado\"."
   ]
  },
  {
   "cell_type": "markdown",
   "id": "human-idaho",
   "metadata": {},
   "source": [
    "### Opción 1: Ejecutar con recursos en línea gratuitos\n",
    "Puedes crear y ejecutar sus cuadernos de jupyter en Google Colab o Kaggle, pero será necesario crear una cuenta para utilizar estas plataformas."
   ]
  },
  {
   "cell_type": "code",
   "execution_count": null,
   "id": "durable-romania",
   "metadata": {},
   "outputs": [],
   "source": []
  }
 ],
 "metadata": {
  "kernelspec": {
   "display_name": "Python 3",
   "language": "python",
   "name": "python3"
  },
  "language_info": {
   "codemirror_mode": {
    "name": "ipython",
    "version": 3
   },
   "file_extension": ".py",
   "mimetype": "text/x-python",
   "name": "python",
   "nbconvert_exporter": "python",
   "pygments_lexer": "ipython3",
   "version": "3.8.5"
  }
 },
 "nbformat": 4,
 "nbformat_minor": 5
}
