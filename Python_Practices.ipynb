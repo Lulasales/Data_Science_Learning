{
 "cells": [
  {
   "cell_type": "markdown",
   "id": "threaded-advance",
   "metadata": {},
   "source": [
    "<span style='color:brown'>Python es un lenguaje de programación ampliamente útil y orientado a objetos. Su sentido significativo junto a sus increíbles bibliotecas le han dado el respeto de ser el idioma preferido para carreras como la de un científico de datos o un experto en IA.</span>\n",
    "\n",
    "<span style='color:brown'>Python también es elegido con frecuencia como el lenguaje para la programación en escuelas y universidades debido a su facilidad de aprendizaje. Estos tutoriales instructivos sirven para ayudar a aprender Python desde cero y hasta un nivel avanzado en este lenguaje.</span>"
   ]
  },
  {
   "cell_type": "markdown",
   "id": "written-progress",
   "metadata": {},
   "source": [
    "<a id='primeros_pasos'></a>\n",
    "## Lección 1 - Introducción a la programación con Python"
   ]
  },
  {
   "cell_type": "markdown",
   "id": "intellectual-tribune",
   "metadata": {},
   "source": [
    "#### Primeros pasos con Python y Jupyter"
   ]
  },
  {
   "cell_type": "markdown",
   "id": "artificial-metro",
   "metadata": {},
   "source": [
    "![Operadores](Python_operators.png)"
   ]
  },
  {
   "cell_type": "markdown",
   "id": "brief-bronze",
   "metadata": {},
   "source": [
    "### Parte 1 de \"Análisis de datos con Python"
   ]
  },
  {
   "cell_type": "markdown",
   "id": "monthly-individual",
   "metadata": {},
   "source": [
    "Esta serie de tutoriales es una introducción amigable para principiantes a la programación y el análisis de datos utilizando el lenguaje de programación python. Estos tutoriales toman un enfoque práctico y centrado en la codificación. La mejor manera de aprender el material es ejecutar el código y experimentar con él usted mismo. Echa un vistazo a la serie completa aquí:\n",
    "\n",
    ">1. [Primeros pasos con Python y Jupyter](#primeros_pasos)\n",
    ">2. [Un recorrido rápido por variables y tipos de datos](#variables)\n",
    ">3. Bifurcación mediante instrucciones y bucles condicionales\n",
    ">4. Escribir código reutilizable mediante funciones\n",
    ">5. Leer y escribir a archivos\n",
    ">6. Computación numérica con Python y Numpy\n",
    ">7. Análisis de datos tabulares con pandas\n",
    ">8. Visualización de datos mediante Matplotlib & Seaborn\n",
    ">9. Análisis exploratorio de datos - Un caso de estudio\n",
    "\n",
    "En este tutorial se tratan los siguientes temas:\n",
    "\n",
    ">* Realización de operaciones aritméticas con Python\n",
    ">* Solución de problemas de varios pasos mediante variables\n",
    ">* Evaluación de condiciones mediante Python\n",
    ">* Combinación de condiciones con operadores lógicos\n",
    ">* Adición de estilos de texto mediante Markdown"
   ]
  },
  {
   "cell_type": "markdown",
   "id": "trained-summer",
   "metadata": {},
   "source": [
    "### Realización de operaciones aritméticas con Python\n",
    "Empecemos por usar Python como una calculadora. Puedes escribir y ejecutar Python mediante una celda del tipo `código` dentro de tu cuaderno de Jupyter.\n",
    "\n",
    "<ins>Trabajar con celdas</ins>: Para crear una nueva celda dentro de Jupyter, puedes seleccionar \"Insertar > Insertar celda a continuación\" en la barra de menús o simplemente presione la tecla <kbd>+</kbd> en la barra de herramientas.\n",
    "También puedes usar el método abreviado de teclado para crear una nueva celda (presionando la tecla <kbd>a</kbd> para insertar una celda anterior a la seleccionada o <kbd>b</kbd> para insertar una celda después). Una vez creada una celda, haga clic en la misma para seleccionarla, a continuación, puede cambiar el tipo de celda a código o markdown (texto) mediante la opción de menú \"Celda > Tipo de celda\".\n",
    "Para editar el contenido la celda haga doble clic en la misma.\n",
    "Para aplicar los cambios y ejecutar una celda, utilice la opción de menú \"Celda > Ejecutar celdas\" o haga clic en el botón \"Ejecutar\" de la barra de herramientas o simplemente utilice el método abreviado de teclado (<kbd>Ctrl</kbd>+<kbd>Intro</kbd> o <kbd>Shift</kbd>+<kbd>Intro</kbd>).\n",
    "Puedes ver una lista completa de métodos abreviados de teclado mediante la opción de menú \"Ayuda > Métodos abreviados de teclado\"."
   ]
  },
  {
   "cell_type": "markdown",
   "id": "photographic-receptor",
   "metadata": {},
   "source": [
    "### Realización de operaciones aritméticas con Python\n",
    "Comencemos por usar Python como una calculadora. Puedes escribir y ejecutar Python mediante una celda de código dentro de Jupyter.\n",
    "\n",
    "Ejecute las celdas de código siguientes para realizar cálculos y ver su resultado. Intente cambiar los números y vuelva a ejecutar las celdas modificadas para ver los resultados actualizados. ¿Puedes adivinar para qué se utilizan los operadores `// % **`?"
   ]
  },
  {
   "cell_type": "markdown",
   "id": "black-fraud",
   "metadata": {},
   "source": [
    "<span style=\"color:brown\">_Por cierto, utilizamos el símbolo \"#\" para inserir comentarios en nuestras celdas de código_</span>"
   ]
  },
  {
   "cell_type": "code",
   "execution_count": 1,
   "id": "imposed-neutral",
   "metadata": {},
   "outputs": [],
   "source": [
    "# Esto es un comentario, no será ejecutado en nuestro código"
   ]
  },
  {
   "cell_type": "code",
   "execution_count": 2,
   "id": "incredible-berlin",
   "metadata": {},
   "outputs": [
    {
     "data": {
      "text/plain": [
       "14"
      ]
     },
     "execution_count": 2,
     "metadata": {},
     "output_type": "execute_result"
    }
   ],
   "source": [
    "# Suma\n",
    "2 + 3 + 9"
   ]
  },
  {
   "cell_type": "code",
   "execution_count": 3,
   "id": "molecular-motion",
   "metadata": {},
   "outputs": [
    {
     "data": {
      "text/plain": [
       "26"
      ]
     },
     "execution_count": 3,
     "metadata": {},
     "output_type": "execute_result"
    }
   ],
   "source": [
    "# Resta\n",
    "99 -73"
   ]
  },
  {
   "cell_type": "code",
   "execution_count": 4,
   "id": "alternative-wright",
   "metadata": {},
   "outputs": [
    {
     "data": {
      "text/plain": [
       "-33709.28"
      ]
     },
     "execution_count": 4,
     "metadata": {},
     "output_type": "execute_result"
    }
   ],
   "source": [
    "# Multiplicación\n",
    "23.54 * -1432"
   ]
  },
  {
   "cell_type": "code",
   "execution_count": 5,
   "id": "constitutional-welsh",
   "metadata": {},
   "outputs": [
    {
     "data": {
      "text/plain": [
       "14.285714285714286"
      ]
     },
     "execution_count": 5,
     "metadata": {},
     "output_type": "execute_result"
    }
   ],
   "source": [
    "# División\n",
    "100 / 7"
   ]
  },
  {
   "cell_type": "code",
   "execution_count": 6,
   "id": "liable-excess",
   "metadata": {},
   "outputs": [
    {
     "data": {
      "text/plain": [
       "14"
      ]
     },
     "execution_count": 6,
     "metadata": {},
     "output_type": "execute_result"
    }
   ],
   "source": [
    "# Parte entera de la División\n",
    "100 // 7"
   ]
  },
  {
   "cell_type": "code",
   "execution_count": 7,
   "id": "renewable-demand",
   "metadata": {},
   "outputs": [
    {
     "data": {
      "text/plain": [
       "2"
      ]
     },
     "execution_count": 7,
     "metadata": {},
     "output_type": "execute_result"
    }
   ],
   "source": [
    "# Resto de la división\n",
    "100 % 7"
   ]
  },
  {
   "cell_type": "code",
   "execution_count": 8,
   "id": "referenced-interface",
   "metadata": {},
   "outputs": [
    {
     "data": {
      "text/plain": [
       "125"
      ]
     },
     "execution_count": 8,
     "metadata": {},
     "output_type": "execute_result"
    }
   ],
   "source": [
    "# Potenciación\n",
    "5 ** 3"
   ]
  },
  {
   "cell_type": "markdown",
   "id": "maritime-uniform",
   "metadata": {},
   "source": [
    "Como era de esperar, los operadores tienen prioridad sobre otros operadores como y según convenciones matemáticas. Puedes utilizar paréntesis para separar y ordenar cómo se realizan las operaciones. `( ) ** * / % // + -`"
   ]
  },
  {
   "cell_type": "code",
   "execution_count": 9,
   "id": "standard-faith",
   "metadata": {},
   "outputs": [
    {
     "data": {
      "text/plain": [
       "1.53125"
      ]
     },
     "execution_count": 9,
     "metadata": {},
     "output_type": "execute_result"
    }
   ],
   "source": [
    "((2 + 5) * (17 - 3)) / (4 ** 3)"
   ]
  },
  {
   "cell_type": "markdown",
   "id": "ambient-bahamas",
   "metadata": {},
   "source": [
    "#### Solución de problemas de varios pasos mediante variables\n",
    "\n",
    "Intentemos resolver el siguiente problema:\n",
    "\n",
    "Una tienda de comestibles vende una bolsa de hielo por $1.25 y obtiene un beneficio del 20%. Si vende 500 bolsas de hielo, ¿cuánto beneficio total obtienen?\n",
    "\n",
    "Podemos enumerar la información proporcionada y convertir gradualmente la palabra problema en una expresión matemática que se puede evaluar mediante Python.\n",
    "\n",
    "Coste de la bolsa de hielo ($) = 1.25\n",
    "\n",
    "Margen de beneficio = 20% = .2\n",
    "\n",
    "Beneficio por bolsa ($) = margen de beneficio * costo de la bolsa de hielo = .2 * 1.25\n",
    "\n",
    "Número de bolsas = 500\n",
    "\n",
    "Beneficio total = número de bolsas * beneficio por bolsa = 500 * (.2 * 1.25)"
   ]
  },
  {
   "cell_type": "code",
   "execution_count": 10,
   "id": "mounted-exhibition",
   "metadata": {},
   "outputs": [
    {
     "data": {
      "text/plain": [
       "125.0"
      ]
     },
     "execution_count": 10,
     "metadata": {},
     "output_type": "execute_result"
    }
   ],
   "source": [
    "500 * (.2 * 1.25)"
   ]
  },
  {
   "cell_type": "markdown",
   "id": "contrary-registrar",
   "metadata": {},
   "source": [
    "Por lo tanto, la tienda de comestibles obtiene un beneficio total de $125. Si bien esta es una manera razonable de resolver un problema, no está del todo claro mirando la celda de código lo que representan los números. Podemos dar nombres a cada uno de los números mediante la creación de variablesde Python.\n",
    "\n",
    "Mientras se trabaja con un lenguaje de programación como Python, la información se almacena en **variables**. Puede pensar en variables como contenedores para almacenar datos. Los datos almacenados dentro de una variable se denominan su valor."
   ]
  },
  {
   "cell_type": "code",
   "execution_count": 11,
   "id": "annoying-greeting",
   "metadata": {},
   "outputs": [],
   "source": [
    "# Declaremos las variables\n",
    "coste_bolsa_hielo = 1.25\n",
    "margen_beneficio = .2\n",
    "num_bolsas = 500"
   ]
  },
  {
   "cell_type": "markdown",
   "id": "passing-orange",
   "metadata": {},
   "source": [
    "Las variables ahora contienen los valores proporcionados. Podemos comprobar el valor de una variable escribiendo su nombre en una celda. También podemos combinar variables mediante operaciones aritméticas para crear otras variables.\n",
    "\n",
    "Pista: al escribir el nombre de una variable existente en una celda de código dentro de Jupyter, simplemente escriba los primeros caracteres y presione la tecla \"Tab\" para autocompletar el nombre de la variable. Intente escribir una celda de código a continuación y pulse para autocompletarla."
   ]
  },
  {
   "cell_type": "code",
   "execution_count": 12,
   "id": "massive-milton",
   "metadata": {},
   "outputs": [
    {
     "data": {
      "text/plain": [
       "1.25"
      ]
     },
     "execution_count": 12,
     "metadata": {},
     "output_type": "execute_result"
    }
   ],
   "source": [
    "coste_bolsa_hielo"
   ]
  },
  {
   "cell_type": "code",
   "execution_count": 13,
   "id": "conventional-width",
   "metadata": {},
   "outputs": [
    {
     "data": {
      "text/plain": [
       "0.2"
      ]
     },
     "execution_count": 13,
     "metadata": {},
     "output_type": "execute_result"
    }
   ],
   "source": [
    "margen_beneficio"
   ]
  },
  {
   "cell_type": "code",
   "execution_count": 14,
   "id": "private-finding",
   "metadata": {},
   "outputs": [
    {
     "data": {
      "text/plain": [
       "500"
      ]
     },
     "execution_count": 14,
     "metadata": {},
     "output_type": "execute_result"
    }
   ],
   "source": [
    "num_bolsas"
   ]
  },
  {
   "cell_type": "code",
   "execution_count": 15,
   "id": "tight-timothy",
   "metadata": {},
   "outputs": [],
   "source": [
    "# Creamos/declaramos la variable margen_benef_por_bolsa\n",
    "margen_benef_por_bolsa = margen_beneficio * coste_bolsa_hielo"
   ]
  },
  {
   "cell_type": "code",
   "execution_count": 16,
   "id": "african-catalyst",
   "metadata": {},
   "outputs": [
    {
     "data": {
      "text/plain": [
       "0.25"
      ]
     },
     "execution_count": 16,
     "metadata": {},
     "output_type": "execute_result"
    }
   ],
   "source": [
    "margen_benef_por_bolsa"
   ]
  },
  {
   "cell_type": "code",
   "execution_count": 17,
   "id": "romantic-seeking",
   "metadata": {},
   "outputs": [],
   "source": [
    "# Creamos/declaramos la variable margen_total\n",
    "margen_total = num_bolsas * margen_benef_por_bolsa"
   ]
  },
  {
   "cell_type": "code",
   "execution_count": 18,
   "id": "baking-curve",
   "metadata": {},
   "outputs": [
    {
     "data": {
      "text/plain": [
       "125.0"
      ]
     },
     "execution_count": 18,
     "metadata": {},
     "output_type": "execute_result"
    }
   ],
   "source": [
    "margen_total"
   ]
  },
  {
   "cell_type": "markdown",
   "id": "positive-eclipse",
   "metadata": {},
   "source": [
    "Si intentas ver el valor de una variable que no se ha definido antes, es decir, dado un valor mediante la instrucción, Python mostrará un error (name 'nombre_variable' is not defined)"
   ]
  },
  {
   "cell_type": "code",
   "execution_count": 19,
   "id": "distant-mobile",
   "metadata": {},
   "outputs": [
    {
     "ename": "NameError",
     "evalue": "name 'Margen_neto' is not defined",
     "output_type": "error",
     "traceback": [
      "\u001b[1;31m---------------------------------------------------------------------------\u001b[0m",
      "\u001b[1;31mNameError\u001b[0m                                 Traceback (most recent call last)",
      "\u001b[1;32m<ipython-input-19-f56b147b214d>\u001b[0m in \u001b[0;36m<module>\u001b[1;34m\u001b[0m\n\u001b[1;32m----> 1\u001b[1;33m \u001b[0mMargen_neto\u001b[0m\u001b[1;33m\u001b[0m\u001b[1;33m\u001b[0m\u001b[0m\n\u001b[0m",
      "\u001b[1;31mNameError\u001b[0m: name 'Margen_neto' is not defined"
     ]
    }
   ],
   "source": [
    "Margen_neto"
   ]
  },
  {
   "cell_type": "markdown",
   "id": "frank-salad",
   "metadata": {},
   "source": [
    "Almacenar y manipular datos utilizando variables con el nombre adecuado es una excelente manera de explicar lo que hace el código."
   ]
  },
  {
   "cell_type": "markdown",
   "id": "tracked-slope",
   "metadata": {},
   "source": [
    "Función `PRINT`: Para exibir la información o resultado de una celda utilizamos la función `print`.\n",
    "\n",
    "Funciones: Una función es un conjunto reutilizable de instrucciones. Toma una o más entradas, realiza ciertas operaciones y a menudo devuelve una salida. Python proporciona muchas funciones integradas, pero también nos permite definir nuestras propias funciones."
   ]
  },
  {
   "cell_type": "code",
   "execution_count": 20,
   "id": "answering-madison",
   "metadata": {},
   "outputs": [
    {
     "name": "stdout",
     "output_type": "stream",
     "text": [
      "La tienda de comestibles obtuvo un beneficio total de $ 125.0\n"
     ]
    }
   ],
   "source": [
    "print(\"La tienda de comestibles obtuvo un beneficio total de $\", margen_total)"
   ]
  },
  {
   "cell_type": "markdown",
   "id": "armed-hierarchy",
   "metadata": {},
   "source": [
    "Función **PRINT**: La función `PRINT` se utiliza para mostrar información. Se necesitan una o más entradas, que pueden ser texto (entre comillas simples `'` o duplas `\"`), números, variables, expresiones matemáticas, etc. Veremos más adelante sobre variables y funciones en el siguiente tutorial.\n",
    "\n",
    "Crear una celda de código para cada operación de variable o operación matemática puede volverse tedioso. Afortunadamente, Jupyter nos permite escribir varias líneas de código dentro de una sola celda de código y ejecutarlos todos de una sola vez.\n",
    "\n",
    "Reescribamos la solución a nuestro problema de palabras dentro de una sola celda."
   ]
  },
  {
   "cell_type": "code",
   "execution_count": 21,
   "id": "focused-tactics",
   "metadata": {},
   "outputs": [
    {
     "name": "stdout",
     "output_type": "stream",
     "text": [
      "La tienda de comestibles obtuvo un beneficio total de $ 125.0\n"
     ]
    }
   ],
   "source": [
    "# Declaremos las variables\n",
    "coste_bolsa_hielo = 1.25\n",
    "margen_beneficio = .2\n",
    "num_bolsas = 500\n",
    "\n",
    "# Declaremos las variables de resultado realizando los cálculos con las variables anteriores\n",
    "margen_benef_por_bolsa = margen_beneficio * coste_bolsa_hielo\n",
    "margen_total = num_bolsas * margen_benef_por_bolsa\n",
    "\n",
    "# Mostremos en pantalla el resultado\n",
    "print(\"La tienda de comestibles obtuvo un beneficio total de $\", margen_total)"
   ]
  },
  {
   "cell_type": "markdown",
   "id": "separate-bargain",
   "metadata": {},
   "source": [
    "Recuerda que estamos usando el carácter # para agregar comentarios dentro de nuestro código.\n",
    "\n",
    "**Comentarios**: Los comentarios y las líneas en blanco se ignoran durante la ejecución, pero son útiles para proporcionar información a los seres humanos (incluido usted mismo) sobre lo que hace el código. Los comentarios pueden estar en línea (al final de algún código), en una línea independiente o incluso abarcar varias líneas.\n",
    "\n",
    "Los comentarios en línea y de una sola línea comienzan con `#`, mientras que los comentarios multilínea comienzan y terminan con tres comillas. Ejemplo: '''Este es un cometario de varias lineas'''."
   ]
  },
  {
   "cell_type": "code",
   "execution_count": 22,
   "id": "latest-bridges",
   "metadata": {},
   "outputs": [],
   "source": [
    "mi_num_pref = 9 # Este es un comentario de ua sola línea"
   ]
  },
  {
   "cell_type": "code",
   "execution_count": 23,
   "id": "timely-cinema",
   "metadata": {},
   "outputs": [],
   "source": [
    "# Este también es un comentario de una sola línea\n",
    "mi_peor_num = 1"
   ]
  },
  {
   "cell_type": "markdown",
   "id": "decimal-kitchen",
   "metadata": {},
   "source": [
    "\"\"\"Este es un comentario de varias líneas.\n",
    "Escribe lo poco o lo mucho que quieras.\n",
    "\n",
    "Los comentarios son realmente útiles para la gente que lee tu código, pero trate de mantenerlos cortos y al punto.\n",
    "\n",
    "Además, si usas buenos nombres de variables, tu código suele ser un código que se explica por sí mismo, ¡y puede que ni siquiera necesites comentarios!\n",
    "\"\"\"\n",
    "\n",
    "a_número_neutral = 5"
   ]
  },
  {
   "cell_type": "markdown",
   "id": "posted-capitol",
   "metadata": {},
   "source": [
    "#### Evaluación de condiciones mediante Python\n",
    "Además de las operaciones aritméticas, Python también proporciona varias operaciones para comparar números y variables.\n",
    "\n",
    "![Operadores_comparacion](Operadores_comparacion.png)\n",
    "\n",
    "El resultado de una operación de comparación será siempre `True` o `False` (tenga en cuenta las mayúsculas T y F). Estas son palabras clave especiales en Python. Probemos algunos experimentos con operadores de comparación."
   ]
  },
  {
   "cell_type": "code",
   "execution_count": 24,
   "id": "rotary-comedy",
   "metadata": {},
   "outputs": [],
   "source": [
    "mi_num_fav = 1\n",
    "mi_ultim_num_fav = 5\n",
    "mi_num_neutral = 3"
   ]
  },
  {
   "cell_type": "code",
   "execution_count": 25,
   "id": "quality-siemens",
   "metadata": {},
   "outputs": [
    {
     "data": {
      "text/plain": [
       "True"
      ]
     },
     "execution_count": 25,
     "metadata": {},
     "output_type": "execute_result"
    }
   ],
   "source": [
    "# Operación Igual que - True\n",
    "mi_num_fav == 1"
   ]
  },
  {
   "cell_type": "code",
   "execution_count": 26,
   "id": "illegal-danish",
   "metadata": {},
   "outputs": [
    {
     "data": {
      "text/plain": [
       "False"
      ]
     },
     "execution_count": 26,
     "metadata": {},
     "output_type": "execute_result"
    }
   ],
   "source": [
    "# Operación Igual que - False\n",
    "mi_num_fav == mi_ultim_num_fav"
   ]
  },
  {
   "cell_type": "code",
   "execution_count": 27,
   "id": "seventh-palestinian",
   "metadata": {},
   "outputs": [
    {
     "data": {
      "text/plain": [
       "True"
      ]
     },
     "execution_count": 27,
     "metadata": {},
     "output_type": "execute_result"
    }
   ],
   "source": [
    "# Operación de Distinto que - True\n",
    "mi_num_fav != mi_num_neutral"
   ]
  },
  {
   "cell_type": "code",
   "execution_count": 28,
   "id": "appointed-class",
   "metadata": {},
   "outputs": [
    {
     "data": {
      "text/plain": [
       "False"
      ]
     },
     "execution_count": 28,
     "metadata": {},
     "output_type": "execute_result"
    }
   ],
   "source": [
    "# Operación de Distinto que - False\n",
    "mi_num_neutral != 3"
   ]
  },
  {
   "cell_type": "code",
   "execution_count": 29,
   "id": "personalized-interest",
   "metadata": {},
   "outputs": [
    {
     "data": {
      "text/plain": [
       "True"
      ]
     },
     "execution_count": 29,
     "metadata": {},
     "output_type": "execute_result"
    }
   ],
   "source": [
    "# Operación de Mayor que - True\n",
    "mi_ultim_num_fav > mi_num_neutral"
   ]
  },
  {
   "cell_type": "code",
   "execution_count": 30,
   "id": "instant-incentive",
   "metadata": {},
   "outputs": [
    {
     "data": {
      "text/plain": [
       "False"
      ]
     },
     "execution_count": 30,
     "metadata": {},
     "output_type": "execute_result"
    }
   ],
   "source": [
    "# Operación de Mayor que - False\n",
    "mi_num_fav > mi_ultim_num_fav"
   ]
  },
  {
   "cell_type": "code",
   "execution_count": 31,
   "id": "coastal-details",
   "metadata": {},
   "outputs": [
    {
     "data": {
      "text/plain": [
       "True"
      ]
     },
     "execution_count": 31,
     "metadata": {},
     "output_type": "execute_result"
    }
   ],
   "source": [
    "# Operación Menor que - True\n",
    "mi_num_fav < 10"
   ]
  },
  {
   "cell_type": "code",
   "execution_count": 32,
   "id": "educated-justice",
   "metadata": {},
   "outputs": [
    {
     "data": {
      "text/plain": [
       "False"
      ]
     },
     "execution_count": 32,
     "metadata": {},
     "output_type": "execute_result"
    }
   ],
   "source": [
    "# Operación Menor que - False\n",
    "mi_ultim_num_fav < mi_num_fav"
   ]
  },
  {
   "cell_type": "code",
   "execution_count": 33,
   "id": "flexible-ireland",
   "metadata": {},
   "outputs": [
    {
     "data": {
      "text/plain": [
       "True"
      ]
     },
     "execution_count": 33,
     "metadata": {},
     "output_type": "execute_result"
    }
   ],
   "source": [
    "# Operación Mayor o igual que - True\n",
    "mi_num_fav >= 1"
   ]
  },
  {
   "cell_type": "code",
   "execution_count": 34,
   "id": "ideal-subdivision",
   "metadata": {},
   "outputs": [
    {
     "data": {
      "text/plain": [
       "False"
      ]
     },
     "execution_count": 34,
     "metadata": {},
     "output_type": "execute_result"
    }
   ],
   "source": [
    "# Operación Mayor o igual que - False\n",
    "mi_num_fav >= 3"
   ]
  },
  {
   "cell_type": "code",
   "execution_count": 35,
   "id": "future-polyester",
   "metadata": {},
   "outputs": [
    {
     "data": {
      "text/plain": [
       "True"
      ]
     },
     "execution_count": 35,
     "metadata": {},
     "output_type": "execute_result"
    }
   ],
   "source": [
    "# Operación Menor o igual que - True\n",
    "3 + 6 <= 9"
   ]
  },
  {
   "cell_type": "code",
   "execution_count": 36,
   "id": "invisible-reliance",
   "metadata": {},
   "outputs": [
    {
     "data": {
      "text/plain": [
       "False"
      ]
     },
     "execution_count": 36,
     "metadata": {},
     "output_type": "execute_result"
    }
   ],
   "source": [
    "# Operación Menor o igual que - False\n",
    "mi_num_fav + mi_num_neutral <= 3"
   ]
  },
  {
   "cell_type": "markdown",
   "id": "horizontal-function",
   "metadata": {},
   "source": [
    "Al igual que las operaciones aritméticas, el resultado de una operación de comparación también se puede almacenar en una variable."
   ]
  },
  {
   "cell_type": "code",
   "execution_count": 37,
   "id": "roman-relationship",
   "metadata": {},
   "outputs": [
    {
     "name": "stdout",
     "output_type": "stream",
     "text": [
      "Está la bolsa de hielo cara? False\n"
     ]
    }
   ],
   "source": [
    "coste_bolsa_hielo = 1.25\n",
    "es_la_bolsa_de_hielo_cara = coste_bolsa_hielo >= 10\n",
    "print(\"Está la bolsa de hielo cara?\", es_la_bolsa_de_hielo_cara)"
   ]
  },
  {
   "cell_type": "markdown",
   "id": "hidden-breeding",
   "metadata": {},
   "source": [
    "#### Combinación de condiciones con operadores lógicos\n",
    "Los operadores lógicos `and`, `or` y `not` operan según condiciones y valores `True` y `False` (también conocidos como booleanos). `and` y `or` operan en dos condiciones, mientras que `not` opera en una sola condición.\n",
    "\n",
    "El operador retornará `True` cuando ambas condiciones se evalúan como `True`. De lo contrario, retornará `False`."
   ]
  },
  {
   "cell_type": "markdown",
   "id": "occupied-newfoundland",
   "metadata": {},
   "source": [
    "![Operadores_booleanos](Operadores_booleanos.jpg)"
   ]
  },
  {
   "cell_type": "code",
   "execution_count": 38,
   "id": "front-california",
   "metadata": {},
   "outputs": [],
   "source": [
    "mi_num_neutral = 3"
   ]
  },
  {
   "cell_type": "code",
   "execution_count": 39,
   "id": "interracial-armenia",
   "metadata": {},
   "outputs": [
    {
     "data": {
      "text/plain": [
       "True"
      ]
     },
     "execution_count": 39,
     "metadata": {},
     "output_type": "execute_result"
    }
   ],
   "source": [
    "mi_num_neutral == 3 or mi_num_fav > 0"
   ]
  },
  {
   "cell_type": "code",
   "execution_count": 40,
   "id": "ignored-hearing",
   "metadata": {},
   "outputs": [
    {
     "data": {
      "text/plain": [
       "True"
      ]
     },
     "execution_count": 40,
     "metadata": {},
     "output_type": "execute_result"
    }
   ],
   "source": [
    "mi_num_neutral != 3 or mi_num_fav > 0"
   ]
  },
  {
   "cell_type": "code",
   "execution_count": 41,
   "id": "unsigned-subsection",
   "metadata": {},
   "outputs": [
    {
     "data": {
      "text/plain": [
       "True"
      ]
     },
     "execution_count": 41,
     "metadata": {},
     "output_type": "execute_result"
    }
   ],
   "source": [
    "mi_num_fav < 0 or True"
   ]
  },
  {
   "cell_type": "code",
   "execution_count": 42,
   "id": "explicit-criticism",
   "metadata": {},
   "outputs": [
    {
     "data": {
      "text/plain": [
       "False"
      ]
     },
     "execution_count": 42,
     "metadata": {},
     "output_type": "execute_result"
    }
   ],
   "source": [
    "False or False"
   ]
  },
  {
   "cell_type": "markdown",
   "id": "verbal-season",
   "metadata": {},
   "source": [
    "El operador `not` devuelve `False` si una condición es `True` y `True` si la condición es `False`."
   ]
  },
  {
   "cell_type": "code",
   "execution_count": 43,
   "id": "leading-auckland",
   "metadata": {},
   "outputs": [
    {
     "data": {
      "text/plain": [
       "False"
      ]
     },
     "execution_count": 43,
     "metadata": {},
     "output_type": "execute_result"
    }
   ],
   "source": [
    "not mi_num_neutral == 3"
   ]
  },
  {
   "cell_type": "code",
   "execution_count": 44,
   "id": "affiliated-married",
   "metadata": {},
   "outputs": [
    {
     "data": {
      "text/plain": [
       "True"
      ]
     },
     "execution_count": 44,
     "metadata": {},
     "output_type": "execute_result"
    }
   ],
   "source": [
    "not mi_num_fav < 0"
   ]
  },
  {
   "cell_type": "code",
   "execution_count": 45,
   "id": "acute-onion",
   "metadata": {},
   "outputs": [
    {
     "data": {
      "text/plain": [
       "True"
      ]
     },
     "execution_count": 45,
     "metadata": {},
     "output_type": "execute_result"
    }
   ],
   "source": [
    "not False"
   ]
  },
  {
   "cell_type": "code",
   "execution_count": 46,
   "id": "conventional-firmware",
   "metadata": {},
   "outputs": [
    {
     "data": {
      "text/plain": [
       "False"
      ]
     },
     "execution_count": 46,
     "metadata": {},
     "output_type": "execute_result"
    }
   ],
   "source": [
    "not True"
   ]
  },
  {
   "cell_type": "markdown",
   "id": "passing-paintball",
   "metadata": {},
   "source": [
    "Los operadores lógicos se pueden combinar para formar condiciones complejas. Utilice corchetes o paréntesis para indicar el orden en que se deben aplicar los operadores lógicos."
   ]
  },
  {
   "cell_type": "code",
   "execution_count": 47,
   "id": "introductory-theorem",
   "metadata": {},
   "outputs": [
    {
     "data": {
      "text/plain": [
       "True"
      ]
     },
     "execution_count": 47,
     "metadata": {},
     "output_type": "execute_result"
    }
   ],
   "source": [
    "(2 > 3 and 4 <= 5) or not (mi_num_fav < 0 and True)"
   ]
  },
  {
   "cell_type": "code",
   "execution_count": 48,
   "id": "entertaining-floating",
   "metadata": {},
   "outputs": [
    {
     "data": {
      "text/plain": [
       "False"
      ]
     },
     "execution_count": 48,
     "metadata": {},
     "output_type": "execute_result"
    }
   ],
   "source": [
    "not (True and 0 < 1) or (False and True)"
   ]
  },
  {
   "cell_type": "markdown",
   "id": "important-identity",
   "metadata": {},
   "source": [
    "Si no se utilizan paréntesis, los operadores lógicos se aplican de izquierda a derecha."
   ]
  },
  {
   "cell_type": "code",
   "execution_count": 49,
   "id": "completed-climb",
   "metadata": {},
   "outputs": [
    {
     "data": {
      "text/plain": [
       "False"
      ]
     },
     "execution_count": 49,
     "metadata": {},
     "output_type": "execute_result"
    }
   ],
   "source": [
    "not True and 0 < 1 or False and True"
   ]
  },
  {
   "cell_type": "markdown",
   "id": "structured-mentor",
   "metadata": {},
   "source": [
    "Experimentemos con operadores aritméticos, condicionales y lógicos en Python utilizando la naturaleza interactiva de los cuadernos jupyter. Aprenderemos más sobre variables y funciones más adelante."
   ]
  },
  {
   "cell_type": "markdown",
   "id": "worthy-canada",
   "metadata": {},
   "source": [
    "#### Adición de estilos de texto mediante Markdown\n",
    "Agregar explicaciones usando celdas de texto (como esta) es una gran manera de hacer que tu cuaderno sea informativo para otros lectores. También es útil si necesitas volver a él en el futuro. Puede hacer doble clic en una celda de texto dentro de Jupyter para editarla. En el modo de edición, observará que el texto se ve ligeramente diferente (por ejemplo, el encabezado tiene un `##` como prefijo). Este texto se escribe con Markdown, una forma sencilla de agregar estilos al texto. Ejecute esta celda para ver la salida sin los caracteres especiales. Puede cambiar de un lado a otro entre la fuente y la salida para aplicar un estilo específico.\n",
    "\n",
    "Por ejemplo, puedes utilizar uno o varios `#` al inicio de una línea para crear encabezados de diferentes tamaños:\n",
    "\n",
    "# Encabezado con un `#`\n",
    "## Encabezado con dos `#`\n",
    "### Encabezado con tres `#`\n",
    "#### Encabezado con cuatro `#`\n",
    "##### Encabezado con cinco `#`\n",
    "###### Encabezado con seis `#`\n",
    "\n",
    "\n",
    "Para crear una lista con viñetas o numerada, simplemente inicie una línea con `*` o `1`.\n",
    "\n",
    "Una lista con viñetas:\n",
    "* Punto 1\n",
    "* Punto 2\n",
    "* Punto 3\n",
    "\n",
    "Una lista numerada:\n",
    "1. manzana\n",
    "2. Plátano\n",
    "3. Piña\n",
    "\n",
    "Puedes insertar texto en negrita utilizando doble asterisco, por ejemplo, **algún texto en negrita**, o hacerlo cursivo utilizando un solo asterisco, por ejemplo, *algún texto cursivo*. También puede crear enlaces, insertar imágenes, etc..\n",
    "\n",
    "Para más información acerca de todo lo que se puede hacer con Mardowns puedes visitar:\n",
    "[https://learnxinyminutes.com/docs/markdown/](]https://learnxinyminutes.com/docs/markdown/)"
   ]
  },
  {
   "cell_type": "markdown",
   "id": "tribal-bottle",
   "metadata": {},
   "source": [
    "<a id='variables'></a>\n",
    "### Un recorrido rápido por variables y tipos de datos"
   ]
  },
  {
   "cell_type": "markdown",
   "id": "significant-queue",
   "metadata": {},
   "source": [
    "![Variables](variables_data_types.png)"
   ]
  },
  {
   "cell_type": "markdown",
   "id": "formed-easter",
   "metadata": {},
   "source": [
    "### Parte 2 de \"Análisis de datos con Python"
   ]
  },
  {
   "cell_type": "markdown",
   "id": "polyphonic-testament",
   "metadata": {},
   "source": [
    ">1. [Primeros pasos con Python y Jupyter](#primeros_pasos)\n",
    ">2. [Un recorrido rápido por variables y tipos de datos](#variables)\n",
    ">3. Bifurcación mediante instrucciones y bucles condicionales\n",
    ">4. Escribir código reutilizable mediante funciones\n",
    ">5. Leer y escribir a archivos\n",
    ">6. Computación numérica con Python y Numpy\n",
    ">7. Análisis de datos tabulares con pandas\n",
    ">8. Visualización de datos mediante Matplotlib & Seaborn\n",
    ">9. Análisis exploratorio de datos - Un caso de estudio\n",
    "En este tutorial se tratan los siguientes temas:\n",
    "\n",
    "En este tutorial se tratan los siguientes temas:\n",
    "\n",
    ">* Almacenamiento de información mediante variables\n",
    ">* Tipos de datos primitivos en Python: Entero, Flotante, Booleano, Ninguno y Cadena\n",
    ">* Estructuras de datos integradas en Python: Lista, Tupla y Diccionario\n",
    ">* Métodos y operadores compatibles con tipos de datos integrados"
   ]
  },
  {
   "cell_type": "markdown",
   "id": "reverse-polish",
   "metadata": {},
   "source": [
    "### Almacenamiento de información mediante variables\n",
    "Las variables son útiles para dos propósitos: almacenar información (también conocida como datos) y realizar operaciones en datos almacenados. Mientras se trabaja con un lenguaje de programación como Python, los datos se almacenan en variables. Puedes pensar en variables como contenedores para almacenar datos y donde los datos almacenados dentro de una variable se denominan su valor. Crear variables en Python es bastante fácil, como ya hemos visto anteriormente."
   ]
  },
  {
   "cell_type": "code",
   "execution_count": 50,
   "id": "fixed-football",
   "metadata": {},
   "outputs": [],
   "source": [
    "mi_color_favorito = 'azul'"
   ]
  },
  {
   "cell_type": "code",
   "execution_count": 51,
   "id": "through-population",
   "metadata": {},
   "outputs": [
    {
     "data": {
      "text/plain": [
       "'azul'"
      ]
     },
     "execution_count": 51,
     "metadata": {},
     "output_type": "execute_result"
    }
   ],
   "source": [
    "mi_color_favorito"
   ]
  },
  {
   "cell_type": "markdown",
   "id": "alone-regard",
   "metadata": {},
   "source": [
    "Se crea una variable mediante una instrucción de asignación `=`. Comienza con el nombre de la variable, seguido por el operador de asignación `=` seguido del valor que se almacenará dentro de la variable. Tenga en cuenta que el operador de asignación `=` es diferente del operador de comparación de igualdad `==`.\n",
    "\n",
    "También puedes asignar valores a varias variables de una sola instrucción separando los nombres y valores de las variables con comas."
   ]
  },
  {
   "cell_type": "code",
   "execution_count": 52,
   "id": "described-accused",
   "metadata": {},
   "outputs": [],
   "source": [
    "color1, color2, color3 = 'azul', 'rojo', 'verde'"
   ]
  },
  {
   "cell_type": "code",
   "execution_count": 53,
   "id": "banner-switch",
   "metadata": {},
   "outputs": [
    {
     "data": {
      "text/plain": [
       "'azul'"
      ]
     },
     "execution_count": 53,
     "metadata": {},
     "output_type": "execute_result"
    }
   ],
   "source": [
    "color1"
   ]
  },
  {
   "cell_type": "code",
   "execution_count": 54,
   "id": "automatic-privilege",
   "metadata": {},
   "outputs": [
    {
     "data": {
      "text/plain": [
       "'rojo'"
      ]
     },
     "execution_count": 54,
     "metadata": {},
     "output_type": "execute_result"
    }
   ],
   "source": [
    "color2"
   ]
  },
  {
   "cell_type": "code",
   "execution_count": 55,
   "id": "affiliated-toolbox",
   "metadata": {},
   "outputs": [
    {
     "data": {
      "text/plain": [
       "'verde'"
      ]
     },
     "execution_count": 55,
     "metadata": {},
     "output_type": "execute_result"
    }
   ],
   "source": [
    "color3"
   ]
  },
  {
   "cell_type": "markdown",
   "id": "perceived-colonial",
   "metadata": {},
   "source": [
    "También puedes asignar el mismo valor a varias variables encadenando varias operaciones de asignación dentro de una sola instrucción."
   ]
  },
  {
   "cell_type": "code",
   "execution_count": 56,
   "id": "asian-projection",
   "metadata": {},
   "outputs": [],
   "source": [
    "color4 = color5 = color6 = 'morado'"
   ]
  },
  {
   "cell_type": "code",
   "execution_count": 57,
   "id": "devoted-candle",
   "metadata": {},
   "outputs": [
    {
     "data": {
      "text/plain": [
       "'morado'"
      ]
     },
     "execution_count": 57,
     "metadata": {},
     "output_type": "execute_result"
    }
   ],
   "source": [
    "color4"
   ]
  },
  {
   "cell_type": "code",
   "execution_count": 58,
   "id": "geological-observer",
   "metadata": {},
   "outputs": [
    {
     "data": {
      "text/plain": [
       "'morado'"
      ]
     },
     "execution_count": 58,
     "metadata": {},
     "output_type": "execute_result"
    }
   ],
   "source": [
    "color5"
   ]
  },
  {
   "cell_type": "code",
   "execution_count": 59,
   "id": "signal-yahoo",
   "metadata": {},
   "outputs": [
    {
     "data": {
      "text/plain": [
       "'morado'"
      ]
     },
     "execution_count": 59,
     "metadata": {},
     "output_type": "execute_result"
    }
   ],
   "source": [
    "color6"
   ]
  },
  {
   "cell_type": "markdown",
   "id": "imposed-appeal",
   "metadata": {},
   "source": [
    "Puedes cambiar el valor almacenado dentro de una variable asignándole un nuevo valor mediante otra instrucción de asignación. Tenga cuidado al reasignar variables: al asignar un nuevo valor a la variable, el valor antiguo se pierde y ya no es accesible."
   ]
  },
  {
   "cell_type": "code",
   "execution_count": 60,
   "id": "rural-assessment",
   "metadata": {},
   "outputs": [],
   "source": [
    "mi_color_favorito = 'rojo'"
   ]
  },
  {
   "cell_type": "code",
   "execution_count": 61,
   "id": "ordinary-vietnamese",
   "metadata": {},
   "outputs": [
    {
     "data": {
      "text/plain": [
       "'rojo'"
      ]
     },
     "execution_count": 61,
     "metadata": {},
     "output_type": "execute_result"
    }
   ],
   "source": [
    "mi_color_favorito"
   ]
  },
  {
   "cell_type": "markdown",
   "id": "incorporate-hybrid",
   "metadata": {},
   "source": [
    "Al reasignar una variable, también puede usar el valor anterior de la variable para calcular el nuevo valor."
   ]
  },
  {
   "cell_type": "code",
   "execution_count": 62,
   "id": "sufficient-argument",
   "metadata": {},
   "outputs": [],
   "source": [
    "contador = 10"
   ]
  },
  {
   "cell_type": "code",
   "execution_count": 63,
   "id": "front-placement",
   "metadata": {},
   "outputs": [],
   "source": [
    "contador = contador + 1"
   ]
  },
  {
   "cell_type": "code",
   "execution_count": 64,
   "id": "excited-municipality",
   "metadata": {},
   "outputs": [
    {
     "data": {
      "text/plain": [
       "11"
      ]
     },
     "execution_count": 64,
     "metadata": {},
     "output_type": "execute_result"
    }
   ],
   "source": [
    "contador"
   ]
  },
  {
   "cell_type": "markdown",
   "id": "every-vinyl",
   "metadata": {},
   "source": [
    "El patrón (donde hay un operador aritmético como `+`, `-`, `*`, `/`) es muy común, por lo que Python proporciona una sintaxis abreviada para él."
   ]
  },
  {
   "cell_type": "code",
   "execution_count": 65,
   "id": "sacred-instruction",
   "metadata": {},
   "outputs": [],
   "source": [
    "contador = 10"
   ]
  },
  {
   "cell_type": "code",
   "execution_count": 66,
   "id": "meaning-mainland",
   "metadata": {},
   "outputs": [],
   "source": [
    "# Igualmente que contador = contador + 4\n",
    "contador += 4"
   ]
  },
  {
   "cell_type": "code",
   "execution_count": 67,
   "id": "active-miracle",
   "metadata": {},
   "outputs": [
    {
     "data": {
      "text/plain": [
       "14"
      ]
     },
     "execution_count": 67,
     "metadata": {},
     "output_type": "execute_result"
    }
   ],
   "source": [
    "contador"
   ]
  },
  {
   "cell_type": "markdown",
   "id": "catholic-season",
   "metadata": {},
   "source": [
    "Los nombres de variables pueden ser cortos (a, b, x, etc...) o descriptivos ( mi_color_favorito, margen_beneficio, los_3_mosqueteros, etc...). Sin embargo, debes seguir estas reglas al nombrar variables de Python:\n",
    "\n",
    "* El nombre de una variable debe empezar con una letra o el carácter de subrayado `_`. No debe empezar por un número\n",
    "* Un nombre de variable solo puede contener letras mayúsculas o minúsculas (mayúsculas), dígitos o guiones bajos\n",
    "* Los nombres de variables se distinguen entre mayúsculas y minúsculas, es decir, son diferentes dependiendo de cómo se cree.\n",
    "\n",
    "Estos son algunos nombres de variables válidos:"
   ]
  },
  {
   "cell_type": "code",
   "execution_count": 68,
   "id": "assigned-spectacular",
   "metadata": {},
   "outputs": [],
   "source": [
    "a_variable = 23\n",
    "hoy_es_Sabado = False\n",
    "mi_coche_favorito = \"Aston Martin\"\n",
    "los_3_mosqueteros = ['Athos', 'Porthos', 'Aramis']"
   ]
  },
  {
   "cell_type": "markdown",
   "id": "capital-horizon",
   "metadata": {},
   "source": [
    "Intentemos crear algunas variables con nombres no válidos. Python imprime un error de sintaxis si el nombre de la variable no es válido.\n",
    "\n",
    "> Sintaxis: La sintaxis de un lenguaje de programación hace referencia a las reglas que rigen la estructura de una instrucción o instrucción válida. Si una instrucción no sigue estas reglas, Python detiene la ejecución e le informa de que hay un error de sintaxis. Puede pensar en la sintaxis como las reglas de gramática para un lenguaje de programación."
   ]
  },
  {
   "cell_type": "code",
   "execution_count": 69,
   "id": "personalized-reception",
   "metadata": {},
   "outputs": [
    {
     "ename": "SyntaxError",
     "evalue": "invalid syntax (<ipython-input-69-b4f9daa715a5>, line 1)",
     "output_type": "error",
     "traceback": [
      "\u001b[1;36m  File \u001b[1;32m\"<ipython-input-69-b4f9daa715a5>\"\u001b[1;36m, line \u001b[1;32m1\u001b[0m\n\u001b[1;33m    a variable = 23\u001b[0m\n\u001b[1;37m      ^\u001b[0m\n\u001b[1;31mSyntaxError\u001b[0m\u001b[1;31m:\u001b[0m invalid syntax\n"
     ]
    }
   ],
   "source": [
    "a variable = 23"
   ]
  },
  {
   "cell_type": "code",
   "execution_count": null,
   "id": "scientific-gothic",
   "metadata": {},
   "outputs": [],
   "source": [
    "hoy_es_$abado = False"
   ]
  },
  {
   "cell_type": "code",
   "execution_count": null,
   "id": "marine-graduation",
   "metadata": {},
   "outputs": [],
   "source": [
    "mi-coche-favorito = 'Aston Martin'"
   ]
  },
  {
   "cell_type": "code",
   "execution_count": null,
   "id": "still-incident",
   "metadata": {},
   "outputs": [],
   "source": [
    "3_mosqueteros = ['Athos', 'Porthos', 'Aramis']"
   ]
  },
  {
   "cell_type": "markdown",
   "id": "hairy-liberia",
   "metadata": {},
   "source": [
    "### Tipos de datos integrados en Python\n",
    "Cualquier dato o información almacenado dentro de una variable de Python tiene un tipo. Puede ver el tipo de datos almacenados dentro de una variable mediante la función `type`."
   ]
  },
  {
   "cell_type": "code",
   "execution_count": 70,
   "id": "muslim-appendix",
   "metadata": {},
   "outputs": [
    {
     "data": {
      "text/plain": [
       "23"
      ]
     },
     "execution_count": 70,
     "metadata": {},
     "output_type": "execute_result"
    }
   ],
   "source": [
    "a_variable"
   ]
  },
  {
   "cell_type": "code",
   "execution_count": 71,
   "id": "coupled-spice",
   "metadata": {},
   "outputs": [
    {
     "data": {
      "text/plain": [
       "int"
      ]
     },
     "execution_count": 71,
     "metadata": {},
     "output_type": "execute_result"
    }
   ],
   "source": [
    "type(a_variable)"
   ]
  },
  {
   "cell_type": "code",
   "execution_count": 72,
   "id": "sensitive-algebra",
   "metadata": {},
   "outputs": [
    {
     "data": {
      "text/plain": [
       "False"
      ]
     },
     "execution_count": 72,
     "metadata": {},
     "output_type": "execute_result"
    }
   ],
   "source": [
    "hoy_es_Sabado"
   ]
  },
  {
   "cell_type": "code",
   "execution_count": 73,
   "id": "ecological-degree",
   "metadata": {},
   "outputs": [
    {
     "data": {
      "text/plain": [
       "bool"
      ]
     },
     "execution_count": 73,
     "metadata": {},
     "output_type": "execute_result"
    }
   ],
   "source": [
    "type(hoy_es_Sabado)"
   ]
  },
  {
   "cell_type": "code",
   "execution_count": 74,
   "id": "toxic-fifty",
   "metadata": {},
   "outputs": [
    {
     "data": {
      "text/plain": [
       "'Aston Martin'"
      ]
     },
     "execution_count": 74,
     "metadata": {},
     "output_type": "execute_result"
    }
   ],
   "source": [
    "mi_coche_favorito"
   ]
  },
  {
   "cell_type": "code",
   "execution_count": 75,
   "id": "honest-primary",
   "metadata": {},
   "outputs": [
    {
     "data": {
      "text/plain": [
       "str"
      ]
     },
     "execution_count": 75,
     "metadata": {},
     "output_type": "execute_result"
    }
   ],
   "source": [
    "type(mi_coche_favorito)"
   ]
  },
  {
   "cell_type": "code",
   "execution_count": 76,
   "id": "military-tuning",
   "metadata": {},
   "outputs": [
    {
     "data": {
      "text/plain": [
       "['Athos', 'Porthos', 'Aramis']"
      ]
     },
     "execution_count": 76,
     "metadata": {},
     "output_type": "execute_result"
    }
   ],
   "source": [
    "los_3_mosqueteros"
   ]
  },
  {
   "cell_type": "code",
   "execution_count": 77,
   "id": "threatened-cookie",
   "metadata": {},
   "outputs": [
    {
     "data": {
      "text/plain": [
       "list"
      ]
     },
     "execution_count": 77,
     "metadata": {},
     "output_type": "execute_result"
    }
   ],
   "source": [
    "type(los_3_mosqueteros)"
   ]
  },
  {
   "cell_type": "markdown",
   "id": "daily-context",
   "metadata": {},
   "source": [
    "Python tiene varios tipos de datos integrados para almacenar diferentes tipos de información en variables. A continuación se muestran algunos tipos de datos de uso común:\n",
    "\n",
    "Entero (int)  \n",
    "Flotante/decimal (float)  \n",
    "Booleana (bool)  \n",
    "Ninguno (None)  \n",
    "Cadena (str)  \n",
    "Lista (list)  \n",
    "Tupla (tuple)  \n",
    "Diccionario (dictionary)  \n",
    "\n",
    "Integer, float, boolean, None y string son tipos de datos primitivos porque representan un único valor. Otros tipos de datos como list, tuple y dictionary a menudo se denominan estructuras de datos o contenedores porque mantienen varios fragmentos de datos juntos."
   ]
  },
  {
   "cell_type": "markdown",
   "id": "arranged-offer",
   "metadata": {},
   "source": [
    "#### Entero\n",
    "Los enteros representan números enteros positivos o negativos, desde el infinito negativo hasta el infinito. Tenga en cuenta que los enteros no deben incluir puntos decimales. Los enteros tienen el tipo `int`."
   ]
  },
  {
   "cell_type": "code",
   "execution_count": 78,
   "id": "rising-linux",
   "metadata": {},
   "outputs": [],
   "source": [
    "ano_actual = 2020"
   ]
  },
  {
   "cell_type": "code",
   "execution_count": 79,
   "id": "threaded-newton",
   "metadata": {},
   "outputs": [
    {
     "data": {
      "text/plain": [
       "2020"
      ]
     },
     "execution_count": 79,
     "metadata": {},
     "output_type": "execute_result"
    }
   ],
   "source": [
    "ano_actual"
   ]
  },
  {
   "cell_type": "code",
   "execution_count": 80,
   "id": "interpreted-postcard",
   "metadata": {},
   "outputs": [
    {
     "data": {
      "text/plain": [
       "int"
      ]
     },
     "execution_count": 80,
     "metadata": {},
     "output_type": "execute_result"
    }
   ],
   "source": [
    "type(ano_actual)"
   ]
  },
  {
   "cell_type": "markdown",
   "id": "nearby-sport",
   "metadata": {},
   "source": [
    "A diferencia de algunos otros lenguajes de programación, los enteros de Python pueden ser arbitrariamente grandes (o pequeños). No hay un valor más bajo o más alto para los enteros, y solo hay un tipo `int`."
   ]
  },
  {
   "cell_type": "code",
   "execution_count": 81,
   "id": "provincial-listing",
   "metadata": {},
   "outputs": [],
   "source": [
    "numero_muy_largo = -23374038374832934334234317348343"
   ]
  },
  {
   "cell_type": "code",
   "execution_count": 82,
   "id": "textile-verse",
   "metadata": {},
   "outputs": [
    {
     "data": {
      "text/plain": [
       "-23374038374832934334234317348343"
      ]
     },
     "execution_count": 82,
     "metadata": {},
     "output_type": "execute_result"
    }
   ],
   "source": [
    "numero_muy_largo"
   ]
  },
  {
   "cell_type": "code",
   "execution_count": 83,
   "id": "transsexual-chrome",
   "metadata": {},
   "outputs": [
    {
     "data": {
      "text/plain": [
       "int"
      ]
     },
     "execution_count": 83,
     "metadata": {},
     "output_type": "execute_result"
    }
   ],
   "source": [
    "type(numero_muy_largo)"
   ]
  },
  {
   "cell_type": "markdown",
   "id": "adopted-wrist",
   "metadata": {},
   "source": [
    "#### Flotante o Decimal\n",
    "Los flotantes (o números de punto flotante) son números con un punto decimal. No hay límites en el valor o el número de dígitos antes o después del punto decimal. Los números de punto flotante tienen el tipo `float`."
   ]
  },
  {
   "cell_type": "code",
   "execution_count": 84,
   "id": "strong-vintage",
   "metadata": {},
   "outputs": [],
   "source": [
    "pi = 3.141592653589793238"
   ]
  },
  {
   "cell_type": "code",
   "execution_count": 85,
   "id": "nearby-atlantic",
   "metadata": {},
   "outputs": [
    {
     "data": {
      "text/plain": [
       "3.141592653589793"
      ]
     },
     "execution_count": 85,
     "metadata": {},
     "output_type": "execute_result"
    }
   ],
   "source": [
    "pi"
   ]
  },
  {
   "cell_type": "code",
   "execution_count": 86,
   "id": "conventional-allowance",
   "metadata": {},
   "outputs": [
    {
     "data": {
      "text/plain": [
       "float"
      ]
     },
     "execution_count": 86,
     "metadata": {},
     "output_type": "execute_result"
    }
   ],
   "source": [
    "type(pi)"
   ]
  },
  {
   "cell_type": "markdown",
   "id": "suited-snake",
   "metadata": {},
   "source": [
    "Ten en cuenta que un número entero se trata como un float si se escribe con un punto decimal, aunque la parte decimal del número es cero."
   ]
  },
  {
   "cell_type": "code",
   "execution_count": 87,
   "id": "universal-feedback",
   "metadata": {},
   "outputs": [],
   "source": [
    "numero_1 = 3.0"
   ]
  },
  {
   "cell_type": "code",
   "execution_count": 88,
   "id": "greenhouse-background",
   "metadata": {},
   "outputs": [
    {
     "data": {
      "text/plain": [
       "3.0"
      ]
     },
     "execution_count": 88,
     "metadata": {},
     "output_type": "execute_result"
    }
   ],
   "source": [
    "numero_1"
   ]
  },
  {
   "cell_type": "code",
   "execution_count": 89,
   "id": "monetary-novel",
   "metadata": {},
   "outputs": [
    {
     "data": {
      "text/plain": [
       "float"
      ]
     },
     "execution_count": 89,
     "metadata": {},
     "output_type": "execute_result"
    }
   ],
   "source": [
    "type(numero_1)"
   ]
  },
  {
   "cell_type": "code",
   "execution_count": 90,
   "id": "elegant-booth",
   "metadata": {},
   "outputs": [],
   "source": [
    "otro_numero = 4."
   ]
  },
  {
   "cell_type": "code",
   "execution_count": 91,
   "id": "incorrect-editor",
   "metadata": {},
   "outputs": [
    {
     "data": {
      "text/plain": [
       "4.0"
      ]
     },
     "execution_count": 91,
     "metadata": {},
     "output_type": "execute_result"
    }
   ],
   "source": [
    "otro_numero"
   ]
  },
  {
   "cell_type": "code",
   "execution_count": 92,
   "id": "occupied-shipping",
   "metadata": {},
   "outputs": [
    {
     "data": {
      "text/plain": [
       "float"
      ]
     },
     "execution_count": 92,
     "metadata": {},
     "output_type": "execute_result"
    }
   ],
   "source": [
    "type(otro_numero)"
   ]
  },
  {
   "cell_type": "markdown",
   "id": "earlier-governor",
   "metadata": {},
   "source": [
    "Los números de punto flotante también se pueden escribir utilizando la notación científica con una \"e\" para indicar la potencia de 10."
   ]
  },
  {
   "cell_type": "code",
   "execution_count": 93,
   "id": "alert-mechanics",
   "metadata": {},
   "outputs": [],
   "source": [
    "un_centenar = 1e-2"
   ]
  },
  {
   "cell_type": "code",
   "execution_count": 94,
   "id": "inappropriate-editor",
   "metadata": {},
   "outputs": [
    {
     "data": {
      "text/plain": [
       "0.01"
      ]
     },
     "execution_count": 94,
     "metadata": {},
     "output_type": "execute_result"
    }
   ],
   "source": [
    "un_centenar"
   ]
  },
  {
   "cell_type": "code",
   "execution_count": 95,
   "id": "recreational-retrieval",
   "metadata": {},
   "outputs": [
    {
     "data": {
      "text/plain": [
       "float"
      ]
     },
     "execution_count": 95,
     "metadata": {},
     "output_type": "execute_result"
    }
   ],
   "source": [
    "type(un_centenar)"
   ]
  },
  {
   "cell_type": "code",
   "execution_count": 96,
   "id": "duplicate-naples",
   "metadata": {},
   "outputs": [],
   "source": [
    "numero_mixto = 6.02214076e23"
   ]
  },
  {
   "cell_type": "code",
   "execution_count": 97,
   "id": "clean-dragon",
   "metadata": {},
   "outputs": [
    {
     "data": {
      "text/plain": [
       "6.02214076e+23"
      ]
     },
     "execution_count": 97,
     "metadata": {},
     "output_type": "execute_result"
    }
   ],
   "source": [
    "numero_mixto"
   ]
  },
  {
   "cell_type": "code",
   "execution_count": 98,
   "id": "promotional-occasion",
   "metadata": {},
   "outputs": [
    {
     "data": {
      "text/plain": [
       "float"
      ]
     },
     "execution_count": 98,
     "metadata": {},
     "output_type": "execute_result"
    }
   ],
   "source": [
    "type(numero_mixto)"
   ]
  },
  {
   "cell_type": "markdown",
   "id": "mounted-marking",
   "metadata": {},
   "source": [
    "Puede convertir numeros flotantes a enteros y viceversa mediante las funciones `float` y `int`. La operación de convertir un tipo de valor en otro se denomina conversión."
   ]
  },
  {
   "cell_type": "code",
   "execution_count": 99,
   "id": "roman-russell",
   "metadata": {},
   "outputs": [
    {
     "data": {
      "text/plain": [
       "2020.0"
      ]
     },
     "execution_count": 99,
     "metadata": {},
     "output_type": "execute_result"
    }
   ],
   "source": [
    "float(ano_actual)"
   ]
  },
  {
   "cell_type": "code",
   "execution_count": 100,
   "id": "solid-fighter",
   "metadata": {},
   "outputs": [
    {
     "data": {
      "text/plain": [
       "-2.3374038374832935e+31"
      ]
     },
     "execution_count": 100,
     "metadata": {},
     "output_type": "execute_result"
    }
   ],
   "source": [
    "float(numero_muy_largo)"
   ]
  },
  {
   "cell_type": "code",
   "execution_count": 101,
   "id": "first-bridge",
   "metadata": {},
   "outputs": [
    {
     "data": {
      "text/plain": [
       "3"
      ]
     },
     "execution_count": 101,
     "metadata": {},
     "output_type": "execute_result"
    }
   ],
   "source": [
    "int(pi)"
   ]
  },
  {
   "cell_type": "code",
   "execution_count": 102,
   "id": "intermediate-gross",
   "metadata": {},
   "outputs": [
    {
     "data": {
      "text/plain": [
       "602214075999999987023872"
      ]
     },
     "execution_count": 102,
     "metadata": {},
     "output_type": "execute_result"
    }
   ],
   "source": [
    "int(numero_mixto)"
   ]
  },
  {
   "cell_type": "markdown",
   "id": "alternate-slovakia",
   "metadata": {},
   "source": [
    "Al realizar operaciones aritméticas, los enteros se convierten automáticamente en `float` si alguno de los operandos es un valor del tipo `float`. Además, el operador de división siempre devuelve un resultadoadel tipo `float`, incluso si ambos operandos son enteros. Utilice el operador `//` si desea que el resultado de la división sea `int`."
   ]
  },
  {
   "cell_type": "code",
   "execution_count": 103,
   "id": "abandoned-branch",
   "metadata": {},
   "outputs": [
    {
     "data": {
      "text/plain": [
       "float"
      ]
     },
     "execution_count": 103,
     "metadata": {},
     "output_type": "execute_result"
    }
   ],
   "source": [
    "type(45 * 3.0)"
   ]
  },
  {
   "cell_type": "code",
   "execution_count": 104,
   "id": "liquid-anatomy",
   "metadata": {},
   "outputs": [
    {
     "data": {
      "text/plain": [
       "int"
      ]
     },
     "execution_count": 104,
     "metadata": {},
     "output_type": "execute_result"
    }
   ],
   "source": [
    "type(45 * 3)"
   ]
  },
  {
   "cell_type": "code",
   "execution_count": 105,
   "id": "first-country",
   "metadata": {},
   "outputs": [
    {
     "data": {
      "text/plain": [
       "float"
      ]
     },
     "execution_count": 105,
     "metadata": {},
     "output_type": "execute_result"
    }
   ],
   "source": [
    "type(10/2)"
   ]
  },
  {
   "cell_type": "code",
   "execution_count": 106,
   "id": "floral-claim",
   "metadata": {},
   "outputs": [
    {
     "data": {
      "text/plain": [
       "float"
      ]
     },
     "execution_count": 106,
     "metadata": {},
     "output_type": "execute_result"
    }
   ],
   "source": [
    "type(10/3)"
   ]
  },
  {
   "cell_type": "code",
   "execution_count": 107,
   "id": "alleged-junction",
   "metadata": {},
   "outputs": [
    {
     "data": {
      "text/plain": [
       "int"
      ]
     },
     "execution_count": 107,
     "metadata": {},
     "output_type": "execute_result"
    }
   ],
   "source": [
    "type(10//2)"
   ]
  },
  {
   "cell_type": "markdown",
   "id": "nervous-receptor",
   "metadata": {},
   "source": [
    "#### Booleana\n",
    "Los booleanos se representan con uno de 2 valores: `True` y `False`. Los booleanos tienen el tipo `boll`."
   ]
  },
  {
   "cell_type": "code",
   "execution_count": 108,
   "id": "piano-korea",
   "metadata": {},
   "outputs": [],
   "source": [
    "hoy_es_Sabado = True"
   ]
  },
  {
   "cell_type": "code",
   "execution_count": 109,
   "id": "affiliated-console",
   "metadata": {},
   "outputs": [
    {
     "data": {
      "text/plain": [
       "True"
      ]
     },
     "execution_count": 109,
     "metadata": {},
     "output_type": "execute_result"
    }
   ],
   "source": [
    "hoy_es_Sabado"
   ]
  },
  {
   "cell_type": "code",
   "execution_count": 110,
   "id": "otherwise-simpson",
   "metadata": {},
   "outputs": [
    {
     "data": {
      "text/plain": [
       "bool"
      ]
     },
     "execution_count": 110,
     "metadata": {},
     "output_type": "execute_result"
    }
   ],
   "source": [
    "type(hoy_es_Sabado)"
   ]
  },
  {
   "cell_type": "code",
   "execution_count": null,
   "id": "subsequent-routine",
   "metadata": {},
   "outputs": [],
   "source": []
  }
 ],
 "metadata": {
  "kernelspec": {
   "display_name": "Python 3",
   "language": "python",
   "name": "python3"
  },
  "language_info": {
   "codemirror_mode": {
    "name": "ipython",
    "version": 3
   },
   "file_extension": ".py",
   "mimetype": "text/x-python",
   "name": "python",
   "nbconvert_exporter": "python",
   "pygments_lexer": "ipython3",
   "version": "3.8.5"
  }
 },
 "nbformat": 4,
 "nbformat_minor": 5
}
