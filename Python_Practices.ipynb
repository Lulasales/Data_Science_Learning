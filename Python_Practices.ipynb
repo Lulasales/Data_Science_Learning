{
 "cells": [
  {
   "cell_type": "markdown",
   "id": "unexpected-trail",
   "metadata": {},
   "source": [
    "<span style='color:brown'>Python es un lenguaje de programación ampliamente útil y orientado a objetos. Su sentido significativo junto a sus increíbles bibliotecas le han dado el respeto de ser el idioma preferido para carreras como la de un científico de datos o un experto en IA.</span>\n",
    "\n",
    "<span style='color:brown'>Python también es elegido con frecuencia como el lenguaje para la programación en escuelas y universidades debido a su facilidad de aprendizaje. Estos tutoriales instructivos sirven para ayudar a aprender Python desde cero y hasta un nivel avanzado en este lenguaje.</span>"
   ]
  },
  {
   "cell_type": "markdown",
   "id": "fitting-influence",
   "metadata": {},
   "source": [
    "## Lección 1 - Introducción a la programación con Python"
   ]
  },
  {
   "cell_type": "markdown",
   "id": "intimate-wagon",
   "metadata": {},
   "source": [
    "#### Primeros pasos con Python y Jupyter"
   ]
  },
  {
   "cell_type": "markdown",
   "id": "parallel-ecology",
   "metadata": {},
   "source": [
    "![Operadores](Basic-Operators-in-Python-blue-2.jpg)"
   ]
  },
  {
   "cell_type": "markdown",
   "id": "pleasant-linux",
   "metadata": {},
   "source": [
    "### Parte 1 de \"Análisis de datos con Python"
   ]
  },
  {
   "cell_type": "markdown",
   "id": "responsible-increase",
   "metadata": {},
   "source": [
    "Esta serie de tutoriales es una introducción amigable para principiantes a la programación y el análisis de datos utilizando el lenguaje de programación python. Estos tutoriales toman un enfoque práctico y centrado en la codificación. La mejor manera de aprender el material es ejecutar el código y experimentar con él usted mismo. Echa un vistazo a la serie completa aquí:\n",
    "\n",
    ">- Primeros pasos con Python y Jupyter\n",
    ">- Un recorrido rápido por variables y tipos de datos\n",
    ">- Bifurcación mediante instrucciones y bucles condicionales\n",
    ">- Escribir código reutilizable mediante funciones\n",
    ">- Leer y escribir a archivos\n",
    ">- Computación numérica con Python y Numpy\n",
    ">- Análisis de datos tabulares con pandas\n",
    ">- Visualización de datos mediante Matplotlib & Seaborn\n",
    ">- Análisis exploratorio de datos - Un caso de estudio\n",
    "\n",
    "En este tutorial se tratan los siguientes temas:\n",
    "\n",
    ">- Realización de operaciones aritméticas con Python\n",
    ">- Solución de problemas de varios pasos mediante variables\n",
    ">- Evaluación de condiciones mediante Python\n",
    ">- Combinación de condiciones con operadores lógicos\n",
    ">- Adición de estilos de texto mediante Markdown"
   ]
  },
  {
   "cell_type": "markdown",
   "id": "posted-allowance",
   "metadata": {},
   "source": [
    "### Realización de operaciones aritméticas con Python\n",
    "Empecemos por usar Python como una calculadora. Puedes escribir y ejecutar Python mediante una celda del tipo `código` dentro de tu cuaderno de Jupyter.\n",
    "\n",
    "<ins>Trabajar con celdas</ins>: Para crear una nueva celda dentro de Jupyter, puedes seleccionar \"Insertar > Insertar celda a continuación\" en la barra de menús o simplemente presione el botón \"+\" en la barra de herramientas.\n",
    "También puedes usar el método abreviado de teclado para crear una nueva celda (presionando la letra \"a\" para insertar una celda anterior a la seleccionada o \"b\" para insertar una celda después). Una vez creada una celda, haga clic en la misma para seleccionarla, a continuación, puede cambiar el tipo de celda a código o markdown (texto) mediante la opción de menú \"Celda > Tipo de celda\".\n",
    "Para editar el contenido la celda haga doble clic en la misma.\n",
    "Para aplicar los cambios y ejecutar una celda, utilice la opción de menú \"Celda > Ejecutar celdas\" o haga clic en el botón \"Ejecutar\" de la barra de herramientas o simplemente utilice el método abreviado de teclado (\"Ctrl + Intro\" o \"Shift + Intro\").\n",
    "Puedes ver una lista completa de métodos abreviados de teclado mediante la opción de menú \"Ayuda > Métodos abreviados de teclado\"."
   ]
  },
  {
   "cell_type": "markdown",
   "id": "heated-bikini",
   "metadata": {},
   "source": [
    "### Realización de operaciones aritméticas con Python\n",
    "Comencemos por usar Python como una calculadora. Puedes escribir y ejecutar Python mediante una celda de código dentro de Jupyter.\n",
    "\n",
    "Ejecute las celdas de código siguientes para realizar cálculos y ver su resultado. Intente cambiar los números y vuelva a ejecutar las celdas modificadas para ver los resultados actualizados. ¿Puedes adivinar para qué se utilizan los operadores `// % **`?"
   ]
  },
  {
   "cell_type": "markdown",
   "id": "alien-month",
   "metadata": {},
   "source": [
    "<span style=\"color:brown\">_Por cierto, utilizamos el símbolo \"#\" para inserir comentarios en nuestras celdas de código_</span>"
   ]
  },
  {
   "cell_type": "code",
   "execution_count": 47,
   "id": "invalid-galaxy",
   "metadata": {},
   "outputs": [],
   "source": [
    "# Esto es un comentario, no será ejecutado en nuestro código"
   ]
  },
  {
   "cell_type": "code",
   "execution_count": 48,
   "id": "comprehensive-treasure",
   "metadata": {},
   "outputs": [
    {
     "data": {
      "text/plain": [
       "14"
      ]
     },
     "execution_count": 48,
     "metadata": {},
     "output_type": "execute_result"
    }
   ],
   "source": [
    "# Suma\n",
    "2 + 3 + 9"
   ]
  },
  {
   "cell_type": "code",
   "execution_count": 49,
   "id": "crude-input",
   "metadata": {},
   "outputs": [
    {
     "data": {
      "text/plain": [
       "26"
      ]
     },
     "execution_count": 49,
     "metadata": {},
     "output_type": "execute_result"
    }
   ],
   "source": [
    "# Resta\n",
    "99 -73"
   ]
  },
  {
   "cell_type": "code",
   "execution_count": 50,
   "id": "infrared-summer",
   "metadata": {},
   "outputs": [
    {
     "data": {
      "text/plain": [
       "-33709.28"
      ]
     },
     "execution_count": 50,
     "metadata": {},
     "output_type": "execute_result"
    }
   ],
   "source": [
    "# Multiplicación\n",
    "23.54 * -1432"
   ]
  },
  {
   "cell_type": "code",
   "execution_count": 51,
   "id": "historical-viking",
   "metadata": {},
   "outputs": [
    {
     "data": {
      "text/plain": [
       "14.285714285714286"
      ]
     },
     "execution_count": 51,
     "metadata": {},
     "output_type": "execute_result"
    }
   ],
   "source": [
    "# División\n",
    "100 / 7"
   ]
  },
  {
   "cell_type": "code",
   "execution_count": 52,
   "id": "peaceful-wheat",
   "metadata": {},
   "outputs": [
    {
     "data": {
      "text/plain": [
       "14"
      ]
     },
     "execution_count": 52,
     "metadata": {},
     "output_type": "execute_result"
    }
   ],
   "source": [
    "# Parte entera de la División\n",
    "100 // 7"
   ]
  },
  {
   "cell_type": "code",
   "execution_count": 53,
   "id": "rational-legend",
   "metadata": {},
   "outputs": [
    {
     "data": {
      "text/plain": [
       "2"
      ]
     },
     "execution_count": 53,
     "metadata": {},
     "output_type": "execute_result"
    }
   ],
   "source": [
    "# Resto de la división\n",
    "100 % 7"
   ]
  },
  {
   "cell_type": "code",
   "execution_count": 54,
   "id": "colonial-mercy",
   "metadata": {},
   "outputs": [
    {
     "data": {
      "text/plain": [
       "125"
      ]
     },
     "execution_count": 54,
     "metadata": {},
     "output_type": "execute_result"
    }
   ],
   "source": [
    "# Potenciación\n",
    "5 ** 3"
   ]
  },
  {
   "cell_type": "markdown",
   "id": "serious-sierra",
   "metadata": {},
   "source": [
    "Como era de esperar, los operadores tienen prioridad sobre otros operadores como y según convenciones matemáticas. Puedes utilizar paréntesis para separar y ordenar cómo se realizan las operaciones. `( ) ** * / % // + -`"
   ]
  },
  {
   "cell_type": "code",
   "execution_count": 55,
   "id": "immediate-retreat",
   "metadata": {},
   "outputs": [
    {
     "data": {
      "text/plain": [
       "1.53125"
      ]
     },
     "execution_count": 55,
     "metadata": {},
     "output_type": "execute_result"
    }
   ],
   "source": [
    "((2 + 5) * (17 - 3)) / (4 ** 3)"
   ]
  },
  {
   "cell_type": "markdown",
   "id": "fabulous-consultation",
   "metadata": {},
   "source": [
    "#### Solución de problemas de varios pasos mediante variables\n",
    "\n",
    "Intentemos resolver el siguiente problema:\n",
    "\n",
    "Una tienda de comestibles vende una bolsa de hielo por $1.25 y obtiene un beneficio del 20%. Si vende 500 bolsas de hielo, ¿cuánto beneficio total obtienen?\n",
    "\n",
    "Podemos enumerar la información proporcionada y convertir gradualmente la palabra problema en una expresión matemática que se puede evaluar mediante Python.\n",
    "\n",
    "Coste de la bolsa de hielo ($) = 1.25\n",
    "\n",
    "Margen de beneficio = 20% = .2\n",
    "\n",
    "Beneficio por bolsa ($) = margen de beneficio * costo de la bolsa de hielo = .2 * 1.25\n",
    "\n",
    "Número de bolsas = 500\n",
    "\n",
    "Beneficio total = número de bolsas * beneficio por bolsa = 500 * (.2 * 1.25)"
   ]
  },
  {
   "cell_type": "code",
   "execution_count": 56,
   "id": "reasonable-mechanism",
   "metadata": {},
   "outputs": [
    {
     "data": {
      "text/plain": [
       "125.0"
      ]
     },
     "execution_count": 56,
     "metadata": {},
     "output_type": "execute_result"
    }
   ],
   "source": [
    "500 * (.2 * 1.25)"
   ]
  },
  {
   "cell_type": "markdown",
   "id": "hungarian-transcription",
   "metadata": {},
   "source": [
    "Por lo tanto, la tienda de comestibles obtiene un beneficio total de $125. Si bien esta es una manera razonable de resolver un problema, no está del todo claro mirando la celda de código lo que representan los números. Podemos dar nombres a cada uno de los números mediante la creación de variablesde Python.\n",
    "\n",
    "Mientras se trabaja con un lenguaje de programación como Python, la información se almacena en **variables**. Puede pensar en variables como contenedores para almacenar datos. Los datos almacenados dentro de una variable se denominan su valor."
   ]
  },
  {
   "cell_type": "code",
   "execution_count": 57,
   "id": "handled-exception",
   "metadata": {},
   "outputs": [],
   "source": [
    "# Declaremos las variables\n",
    "coste_bolsa_hielo = 1.25\n",
    "margen_beneficio = .2\n",
    "num_bolsas = 500"
   ]
  },
  {
   "cell_type": "markdown",
   "id": "aging-inventory",
   "metadata": {},
   "source": [
    "Las variables ahora contienen los valores proporcionados. Podemos comprobar el valor de una variable escribiendo su nombre en una celda. También podemos combinar variables mediante operaciones aritméticas para crear otras variables.\n",
    "\n",
    "Pista: al escribir el nombre de una variable existente en una celda de código dentro de Jupyter, simplemente escriba los primeros caracteres y presione la tecla \"Tab\" para autocompletar el nombre de la variable. Intente escribir una celda de código a continuación y pulse para autocompletarla."
   ]
  },
  {
   "cell_type": "code",
   "execution_count": 58,
   "id": "listed-wilderness",
   "metadata": {},
   "outputs": [
    {
     "data": {
      "text/plain": [
       "1.25"
      ]
     },
     "execution_count": 58,
     "metadata": {},
     "output_type": "execute_result"
    }
   ],
   "source": [
    "coste_bolsa_hielo"
   ]
  },
  {
   "cell_type": "code",
   "execution_count": 59,
   "id": "loved-diesel",
   "metadata": {},
   "outputs": [
    {
     "data": {
      "text/plain": [
       "0.2"
      ]
     },
     "execution_count": 59,
     "metadata": {},
     "output_type": "execute_result"
    }
   ],
   "source": [
    "margen_beneficio"
   ]
  },
  {
   "cell_type": "code",
   "execution_count": 60,
   "id": "acquired-penny",
   "metadata": {},
   "outputs": [
    {
     "data": {
      "text/plain": [
       "500"
      ]
     },
     "execution_count": 60,
     "metadata": {},
     "output_type": "execute_result"
    }
   ],
   "source": [
    "num_bolsas"
   ]
  },
  {
   "cell_type": "code",
   "execution_count": 61,
   "id": "iraqi-static",
   "metadata": {},
   "outputs": [],
   "source": [
    "# Creamos/declaramos la variable margen_benef_por_bolsa\n",
    "margen_benef_por_bolsa = margen_beneficio * coste_bolsa_hielo"
   ]
  },
  {
   "cell_type": "code",
   "execution_count": 62,
   "id": "actual-display",
   "metadata": {},
   "outputs": [
    {
     "data": {
      "text/plain": [
       "0.25"
      ]
     },
     "execution_count": 62,
     "metadata": {},
     "output_type": "execute_result"
    }
   ],
   "source": [
    "margen_benef_por_bolsa"
   ]
  },
  {
   "cell_type": "code",
   "execution_count": 63,
   "id": "attended-clerk",
   "metadata": {},
   "outputs": [],
   "source": [
    "# Creamos/declaramos la variable margen_total\n",
    "margen_total = num_bolsas * margen_benef_por_bolsa"
   ]
  },
  {
   "cell_type": "code",
   "execution_count": 64,
   "id": "ultimate-number",
   "metadata": {},
   "outputs": [
    {
     "data": {
      "text/plain": [
       "125.0"
      ]
     },
     "execution_count": 64,
     "metadata": {},
     "output_type": "execute_result"
    }
   ],
   "source": [
    "margen_total"
   ]
  },
  {
   "cell_type": "markdown",
   "id": "exceptional-probe",
   "metadata": {},
   "source": [
    "Si intentas ver el valor de una variable que no se ha definido antes, es decir, dado un valor mediante la instrucción, Python mostrará un error (name 'nombre_variable' is not defined)"
   ]
  },
  {
   "cell_type": "code",
   "execution_count": 65,
   "id": "enabling-eagle",
   "metadata": {},
   "outputs": [
    {
     "ename": "NameError",
     "evalue": "name 'Margen_neto' is not defined",
     "output_type": "error",
     "traceback": [
      "\u001b[1;31m---------------------------------------------------------------------------\u001b[0m",
      "\u001b[1;31mNameError\u001b[0m                                 Traceback (most recent call last)",
      "\u001b[1;32m<ipython-input-65-f56b147b214d>\u001b[0m in \u001b[0;36m<module>\u001b[1;34m\u001b[0m\n\u001b[1;32m----> 1\u001b[1;33m \u001b[0mMargen_neto\u001b[0m\u001b[1;33m\u001b[0m\u001b[1;33m\u001b[0m\u001b[0m\n\u001b[0m",
      "\u001b[1;31mNameError\u001b[0m: name 'Margen_neto' is not defined"
     ]
    }
   ],
   "source": [
    "Margen_neto"
   ]
  },
  {
   "cell_type": "markdown",
   "id": "forty-adapter",
   "metadata": {},
   "source": [
    "Almacenar y manipular datos utilizando variables con el nombre adecuado es una excelente manera de explicar lo que hace el código."
   ]
  },
  {
   "cell_type": "markdown",
   "id": "existing-assembly",
   "metadata": {},
   "source": [
    "Función `PRINT`: Para exibir la información o resultado de una celda utilizamos la función `print`.\n",
    "\n",
    "Funciones: Una función es un conjunto reutilizable de instrucciones. Toma una o más entradas, realiza ciertas operaciones y a menudo devuelve una salida. Python proporciona muchas funciones integradas, pero también nos permite definir nuestras propias funciones."
   ]
  },
  {
   "cell_type": "code",
   "execution_count": null,
   "id": "synthetic-edward",
   "metadata": {},
   "outputs": [],
   "source": [
    "print(\"La tienda de comestibles obtuvo un beneficio total de $\", margen_total)"
   ]
  },
  {
   "cell_type": "markdown",
   "id": "lesbian-japan",
   "metadata": {},
   "source": [
    "Función **PRINT**: La función `PRINT` se utiliza para mostrar información. Se necesitan una o más entradas, que pueden ser texto (entre comillas simples `'` o duplas `\"`), números, variables, expresiones matemáticas, etc. Veremos más adelante sobre variables y funciones en el siguiente tutorial.\n",
    "\n",
    "Crear una celda de código para cada operación de variable o operación matemática puede volverse tedioso. Afortunadamente, Jupyter nos permite escribir varias líneas de código dentro de una sola celda de código y ejecutarlos todos de una sola vez.\n",
    "\n",
    "Reescribamos la solución a nuestro problema de palabras dentro de una sola celda."
   ]
  },
  {
   "cell_type": "code",
   "execution_count": 66,
   "id": "boolean-chrome",
   "metadata": {},
   "outputs": [
    {
     "name": "stdout",
     "output_type": "stream",
     "text": [
      "La tienda de comestibles obtuvo un beneficio total de $ 125.0\n"
     ]
    }
   ],
   "source": [
    "# Declaremos las variables\n",
    "coste_bolsa_hielo = 1.25\n",
    "margen_beneficio = .2\n",
    "num_bolsas = 500\n",
    "\n",
    "# Declaremos las variables de resultado realizando los cálculos con las variables anteriores\n",
    "margen_benef_por_bolsa = margen_beneficio * coste_bolsa_hielo\n",
    "margen_total = num_bolsas * margen_benef_por_bolsa\n",
    "\n",
    "# Mostremos en pantalla el resultado\n",
    "print(\"La tienda de comestibles obtuvo un beneficio total de $\", margen_total)"
   ]
  },
  {
   "cell_type": "markdown",
   "id": "yellow-collins",
   "metadata": {},
   "source": [
    "Recuerda que estamos usando el carácter # para agregar comentarios dentro de nuestro código.\n",
    "\n",
    "**Comentarios**: Los comentarios y las líneas en blanco se ignoran durante la ejecución, pero son útiles para proporcionar información a los seres humanos (incluido usted mismo) sobre lo que hace el código. Los comentarios pueden estar en línea (al final de algún código), en una línea independiente o incluso abarcar varias líneas.\n",
    "\n",
    "Los comentarios en línea y de una sola línea comienzan con #, mientras que los comentarios multilínea comienzan y terminan con tres comillas, es decir. Ejemplo: '''Este es un cometario de varias lineas'''."
   ]
  },
  {
   "cell_type": "code",
   "execution_count": null,
   "id": "veterinary-footage",
   "metadata": {},
   "outputs": [],
   "source": [
    "mi_num_pref = 9 # Este es un comentario de ua sola línea"
   ]
  },
  {
   "cell_type": "code",
   "execution_count": null,
   "id": "sporting-insulin",
   "metadata": {},
   "outputs": [],
   "source": [
    "# Este también es un comentario de una sola línea\n",
    "mi_peor_num = 1"
   ]
  },
  {
   "cell_type": "markdown",
   "id": "specified-impact",
   "metadata": {},
   "source": [
    "\"\"\"Este es un comentario de varias líneas.\n",
    "Escribe lo poco o lo mucho que quieras.\n",
    "\n",
    "Los comentarios son realmente útiles para la gente que lee tu código, pero trate de mantenerlos cortos y al punto.\n",
    "\n",
    "Además, si usas buenos nombres de variables, tu código suele ser un código que se explica por sí mismo, ¡y puede que ni siquiera necesites comentarios!\n",
    "\"\"\"\n",
    "a_número_neutral = 5"
   ]
  },
  {
   "cell_type": "markdown",
   "id": "optical-taylor",
   "metadata": {},
   "source": [
    "#### Evaluación de condiciones mediante Python\n",
    "Además de las operaciones aritméticas, Python también proporciona varias operaciones para comparar números y variables.\n",
    "\n",
    "![Operadores_comparacion](Operadores_comparacion.png)\n",
    "\n",
    "El resultado de una operación de comparación será siempre `True` o `False` (tenga en cuenta las mayúsculas T y F). Estas son palabras clave especiales en Python. Probemos algunos experimentos con operadores de comparación."
   ]
  },
  {
   "cell_type": "code",
   "execution_count": null,
   "id": "turkish-factor",
   "metadata": {},
   "outputs": [],
   "source": [
    "mi_num_fav = 1\n",
    "mi_ultim_num_fav = 5\n",
    "mi_num_neutral = 3"
   ]
  },
  {
   "cell_type": "code",
   "execution_count": null,
   "id": "coordinate-wealth",
   "metadata": {},
   "outputs": [],
   "source": [
    "# Operación Igual que - True\n",
    "mi_num_fav == 1"
   ]
  },
  {
   "cell_type": "code",
   "execution_count": null,
   "id": "white-pulse",
   "metadata": {},
   "outputs": [],
   "source": [
    "# Operación Igual que - False\n",
    "mi_num_fav == mi_ultim_num_fav"
   ]
  },
  {
   "cell_type": "code",
   "execution_count": null,
   "id": "coupled-mandate",
   "metadata": {},
   "outputs": [],
   "source": [
    "# Operación de Distinto que - True\n",
    "mi_num_fav != mi_num_neutral"
   ]
  },
  {
   "cell_type": "code",
   "execution_count": null,
   "id": "funky-assistant",
   "metadata": {},
   "outputs": [],
   "source": [
    "# Operación de Distinto que - False\n",
    "mi_num_neutral != 3"
   ]
  },
  {
   "cell_type": "code",
   "execution_count": null,
   "id": "instant-picture",
   "metadata": {},
   "outputs": [],
   "source": [
    "# Operación de Mayor que - True\n",
    "mi_ultim_num_fav > mi_num_neutral"
   ]
  },
  {
   "cell_type": "code",
   "execution_count": null,
   "id": "least-training",
   "metadata": {},
   "outputs": [],
   "source": [
    "# Operación de Mayor que - False\n",
    "mi_num_fav > mi_ultim_num_fav"
   ]
  },
  {
   "cell_type": "code",
   "execution_count": null,
   "id": "standing-bulgarian",
   "metadata": {},
   "outputs": [],
   "source": [
    "# Operación Menor que - True\n",
    "mi_num_fav < 10"
   ]
  },
  {
   "cell_type": "code",
   "execution_count": null,
   "id": "specified-florist",
   "metadata": {},
   "outputs": [],
   "source": [
    "# Operación Menor que - False\n",
    "mi_ultim_num_fav < mi_num_fav"
   ]
  },
  {
   "cell_type": "code",
   "execution_count": null,
   "id": "living-hudson",
   "metadata": {},
   "outputs": [],
   "source": [
    "# Operación Mayor o igual que - True\n",
    "mi_num_fav >= 1"
   ]
  },
  {
   "cell_type": "code",
   "execution_count": null,
   "id": "located-visiting",
   "metadata": {},
   "outputs": [],
   "source": [
    "# Operación Mayor o igual que - False\n",
    "mi_num_fav >= 3"
   ]
  },
  {
   "cell_type": "code",
   "execution_count": null,
   "id": "integrated-cross",
   "metadata": {},
   "outputs": [],
   "source": [
    "# Operación Menor o igual que - True\n",
    "3 + 6 <= 9"
   ]
  },
  {
   "cell_type": "code",
   "execution_count": null,
   "id": "enormous-above",
   "metadata": {},
   "outputs": [],
   "source": [
    "# Operación Menor o igual que - False\n",
    "mi_num_fav + mi_num_neutral <= 3"
   ]
  },
  {
   "cell_type": "markdown",
   "id": "leading-denver",
   "metadata": {},
   "source": [
    "Al igual que las operaciones aritméticas, el resultado de una operación de comparación también se puede almacenar en una variable."
   ]
  },
  {
   "cell_type": "code",
   "execution_count": null,
   "id": "environmental-ladder",
   "metadata": {},
   "outputs": [],
   "source": [
    "coste_bolsa_hielo = 1.25\n",
    "es_la_bolsa_de_hielo_cara = coste_bolsa_hielo >= 10\n",
    "print(\"Está la bolsa de hielo cara?\", es_la_bolsa_de_hielo_cara)"
   ]
  },
  {
   "cell_type": "markdown",
   "id": "communist-official",
   "metadata": {},
   "source": [
    "#### Combinación de condiciones con operadores lógicos\n",
    "Los operadores lógicos `and`, `or` y `not` operan según condiciones y valores `True` y `False` (también conocidos como booleanos). `and` y `or` operan en dos condiciones, mientras que `not` opera en una sola condición.\n",
    "\n",
    "El operador retornará `True` cuando ambas condiciones se evalúan como `True`. De lo contrario, retornará `False`."
   ]
  },
  {
   "cell_type": "markdown",
   "id": "frozen-endorsement",
   "metadata": {},
   "source": [
    "![Operadores_booleanos](Operadores_booleanos.jpg)"
   ]
  },
  {
   "cell_type": "code",
   "execution_count": null,
   "id": "dynamic-suicide",
   "metadata": {},
   "outputs": [],
   "source": [
    "mi_num_neutral = 3"
   ]
  },
  {
   "cell_type": "code",
   "execution_count": null,
   "id": "quiet-marijuana",
   "metadata": {},
   "outputs": [],
   "source": [
    "mi_num_neutral == 3 or mi_num_fav > 0"
   ]
  },
  {
   "cell_type": "code",
   "execution_count": null,
   "id": "broke-poker",
   "metadata": {},
   "outputs": [],
   "source": [
    "mi_num_neutral != 3 or mi_num_fav > 0"
   ]
  },
  {
   "cell_type": "code",
   "execution_count": null,
   "id": "hollywood-participation",
   "metadata": {},
   "outputs": [],
   "source": [
    "mi_num_fav < 0 or True"
   ]
  },
  {
   "cell_type": "code",
   "execution_count": null,
   "id": "satisfactory-annex",
   "metadata": {},
   "outputs": [],
   "source": [
    "False or False"
   ]
  },
  {
   "cell_type": "markdown",
   "id": "color-twins",
   "metadata": {},
   "source": [
    "El operador `not` devuelve `False` si una condición es `True` y `True` si la condición es `False`."
   ]
  },
  {
   "cell_type": "code",
   "execution_count": null,
   "id": "veterinary-noise",
   "metadata": {},
   "outputs": [],
   "source": [
    "not mi_num_neutral == 3"
   ]
  },
  {
   "cell_type": "code",
   "execution_count": null,
   "id": "animated-conclusion",
   "metadata": {},
   "outputs": [],
   "source": [
    "not mi_num_fav < 0"
   ]
  },
  {
   "cell_type": "code",
   "execution_count": null,
   "id": "apart-disco",
   "metadata": {},
   "outputs": [],
   "source": [
    "not False"
   ]
  },
  {
   "cell_type": "code",
   "execution_count": null,
   "id": "cellular-alexander",
   "metadata": {},
   "outputs": [],
   "source": [
    "not True"
   ]
  },
  {
   "cell_type": "markdown",
   "id": "unknown-scene",
   "metadata": {},
   "source": [
    "Logical operators can be combined to form complex conditions. Use round brackets or parentheses ( and ) to indicate the order in which logical operators should be applied.\n",
    "Los operadores lógicos se pueden combinar para formar condiciones complejas. Utilice corchetes o paréntesis para indicar el orden en que se deben aplicar los operadores lógicos."
   ]
  },
  {
   "cell_type": "code",
   "execution_count": null,
   "id": "still-jamaica",
   "metadata": {},
   "outputs": [],
   "source": [
    "(2 > 3 and 4 <= 5) or not (mi_num_fav < 0 and True)"
   ]
  },
  {
   "cell_type": "code",
   "execution_count": null,
   "id": "entire-translation",
   "metadata": {},
   "outputs": [],
   "source": [
    "not (True and 0 < 1) or (False and True)"
   ]
  },
  {
   "cell_type": "markdown",
   "id": "nasty-maine",
   "metadata": {},
   "source": [
    "Si no se utilizan paréntesis, los operadores lógicos se aplican de izquierda a derecha."
   ]
  },
  {
   "cell_type": "code",
   "execution_count": null,
   "id": "infrared-crystal",
   "metadata": {},
   "outputs": [],
   "source": [
    "not True and 0 < 1 or False and True"
   ]
  },
  {
   "cell_type": "markdown",
   "id": "colonial-bleeding",
   "metadata": {},
   "source": [
    "Experimente con operadores aritméticos, condicionales y lógicos en Python utilizando la naturaleza interactiva de los cuadernos jupyter. Aprenderemos más sobre variables y funciones más adelante."
   ]
  },
  {
   "cell_type": "markdown",
   "id": "entire-speed",
   "metadata": {},
   "source": [
    "#### Adición de estilos de texto mediante Markdown\n",
    "Agregar explicaciones usando celdas de texto (como esta) es una gran manera de hacer que tu cuaderno sea informativo para otros lectores. También es útil si necesitas volver a él en el futuro. Puede hacer doble clic en una celda de texto dentro de Jupyter para editarla. En el modo de edición, observará que el texto se ve ligeramente diferente (por ejemplo, el encabezado tiene un `##` como prefijo). Este texto se escribe con Markdown, una forma sencilla de agregar estilos al texto. Ejecute esta celda para ver la salida sin los caracteres especiales. Puede cambiar de un lado a otro entre la fuente y la salida para aplicar un estilo específico.\n",
    "\n",
    "Por ejemplo, puedes utilizar uno o varios `#` al inicio de una línea para crear encabezados de diferentes tamaños:\n",
    "\n",
    "# Titulo\n",
    "## Titulo\n",
    "### Titulo\n",
    "#### Titulo\n",
    "##### Titulo\n",
    "###### Titulo\n",
    "\n",
    "Para crear una lista con viñetas o numerada, simplemente inicie una línea con `*` o `1`.\n",
    "\n",
    "Una lista con viñetas:\n",
    "* Punto 1\n",
    "* Punto 2\n",
    "* Punto 3\n",
    "\n",
    "Una lista numerada:\n",
    "1.manzana\n",
    "2.Plátano\n",
    "3.Piña\n",
    "\n",
    "Puedes insertar texto en negrita utilizando doble asterisco, por ejemplo, **algún texto en negrita**, o hacerlo cursivo utilizando un solo asterisco, por ejemplo, *algún texto cursivo*. También puede crear enlaces, insertar imágenes, etc.."
   ]
  }
 ],
 "metadata": {
  "kernelspec": {
   "display_name": "Python 3",
   "language": "python",
   "name": "python3"
  },
  "language_info": {
   "codemirror_mode": {
    "name": "ipython",
    "version": 3
   },
   "file_extension": ".py",
   "mimetype": "text/x-python",
   "name": "python",
   "nbconvert_exporter": "python",
   "pygments_lexer": "ipython3",
   "version": "3.8.5"
  }
 },
 "nbformat": 4,
 "nbformat_minor": 5
}
