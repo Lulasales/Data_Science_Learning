{
 "cells": [
  {
   "cell_type": "markdown",
   "id": "welcome-transcription",
   "metadata": {},
   "source": [
    "<span style='color:brown'>Python es un lenguaje de programación ampliamente útil y orientado a objetos. Su sentido significativo junto a sus increíbles bibliotecas le han dado el respeto de ser el idioma preferido para carreras como la de un científico de datos o un experto en IA.</span>\n",
    "\n",
    "<span style='color:brown'>Python también es elegido con frecuencia como el lenguaje para la programación en escuelas y universidades debido a su facilidad de aprendizaje. Estos tutoriales instructivos sirven para ayudar a aprender Python desde cero y hasta un nivel avanzado en este lenguaje.</span>"
   ]
  },
  {
   "cell_type": "markdown",
   "id": "historic-authorization",
   "metadata": {},
   "source": [
    "## Lección 1 - Introducción a la programación con Python"
   ]
  },
  {
   "cell_type": "markdown",
   "id": "immune-database",
   "metadata": {},
   "source": [
    "#### Primeros pasos con Python y Jupyter"
   ]
  },
  {
   "cell_type": "markdown",
   "id": "extreme-calibration",
   "metadata": {},
   "source": [
    "![Operadores](Basic-Operators-in-Python-blue-2.jpg)"
   ]
  },
  {
   "cell_type": "markdown",
   "id": "headed-income",
   "metadata": {},
   "source": [
    "### Parte 1 de \"Análisis de datos con Python"
   ]
  },
  {
   "cell_type": "markdown",
   "id": "chemical-balloon",
   "metadata": {},
   "source": [
    "Esta serie de tutoriales es una introducción amigable para principiantes a la programación y el análisis de datos utilizando el lenguaje de programación python. Estos tutoriales toman un enfoque práctico y centrado en la codificación. La mejor manera de aprender el material es ejecutar el código y experimentar con él usted mismo. Echa un vistazo a la serie completa aquí:\n",
    "\n",
    "- Primeros pasos con Python y Jupyter\n",
    "- Un recorrido rápido por variables y tipos de datos\n",
    "- Bifurcación mediante instrucciones y bucles condicionales\n",
    "- Escribir código reutilizable mediante funciones\n",
    "- Leer y escribir a archivos\n",
    "- Computación numérica con Python y Numpy\n",
    "- Análisis de datos tabulares con pandas\n",
    "- Visualización de datos mediante Matplotlib & Seaborn\n",
    "- Análisis exploratorio de datos - Un caso de estudio\n",
    "\n",
    "En este tutorial se tratan los siguientes temas:\n",
    "\n",
    "- Realización de operaciones aritméticas con Python\n",
    "- Solución de problemas de varios pasos mediante variables\n",
    "- Evaluación de condiciones mediante Python\n",
    "- Combinación de condiciones con operadores lógicos\n",
    "- Adición de estilos de texto mediante Markdown"
   ]
  },
  {
   "cell_type": "markdown",
   "id": "secret-packing",
   "metadata": {},
   "source": [
    "### Realización de operaciones aritméticas con Python\n",
    "Empecemos por usar Python como una calculadora. Puedes escribir y ejecutar Python mediante una celda del tipo **código** dentro de tu cuaderno de Jupyter.\n",
    "\n",
    "<ins>Trabajar con celdas</ins>: Para crear una nueva celda dentro de Jupyter, puedes seleccionar \"Insertar > Insertar celda a continuación\" en la barra de menús o simplemente presione el botón \"+\" en la barra de herramientas.\n",
    "También puedes usar el método abreviado de teclado para crear una nueva celda (presionando la letra \"a\" para insertar una celda anterior a la seleccionada o \"b\" para insertar una celda después). Una vez creada una celda, haga clic en la misma para seleccionarla, a continuación, puede cambiar el tipo de celda a código o markdown (texto) mediante la opción de menú \"Celda > Tipo de celda\".\n",
    "Para editar el contenido la celda haga doble clic en la misma.\n",
    "Para aplicar los cambios y ejecutar una celda, utilice la opción de menú \"Celda > Ejecutar celdas\" o haga clic en el botón \"Ejecutar\" de la barra de herramientas o simplemente utilice el método abreviado de teclado (\"Ctrl + Intro\" o \"Shift + Intro\").\n",
    "Puedes ver una lista completa de métodos abreviados de teclado mediante la opción de menú \"Ayuda > Métodos abreviados de teclado\"."
   ]
  },
  {
   "cell_type": "markdown",
   "id": "thirty-retrieval",
   "metadata": {},
   "source": [
    "### Realización de operaciones aritméticas con Python\n",
    "Comencemos por usar Python como una calculadora. Puedes escribir y ejecutar Python mediante una celda de código dentro de Jupyter.\n",
    "\n",
    "Ejecute las celdas de código siguientes para realizar cálculos y ver su resultado. Intente cambiar los números y vuelva a ejecutar las celdas modificadas para ver los resultados actualizados. ¿Puedes adivinar para qué se utilizan los operadores \"// % **\"?"
   ]
  },
  {
   "cell_type": "markdown",
   "id": "living-application",
   "metadata": {},
   "source": [
    "<span style=\"color:brown\">_Por cierto, utilizamos el símbolo \"#\" para inserir comentarios en nuestras celdas de código_</span>"
   ]
  },
  {
   "cell_type": "code",
   "execution_count": 1,
   "id": "whole-contemporary",
   "metadata": {},
   "outputs": [],
   "source": [
    "# Esto es un comentario, no será ejecutado en nuestro código"
   ]
  },
  {
   "cell_type": "code",
   "execution_count": 2,
   "id": "collectible-constraint",
   "metadata": {},
   "outputs": [
    {
     "data": {
      "text/plain": [
       "14"
      ]
     },
     "execution_count": 2,
     "metadata": {},
     "output_type": "execute_result"
    }
   ],
   "source": [
    "# Suma\n",
    "2 + 3 + 9"
   ]
  },
  {
   "cell_type": "code",
   "execution_count": 3,
   "id": "rough-contract",
   "metadata": {},
   "outputs": [
    {
     "data": {
      "text/plain": [
       "26"
      ]
     },
     "execution_count": 3,
     "metadata": {},
     "output_type": "execute_result"
    }
   ],
   "source": [
    "# Resta\n",
    "99 -73"
   ]
  },
  {
   "cell_type": "code",
   "execution_count": 4,
   "id": "equivalent-backing",
   "metadata": {},
   "outputs": [
    {
     "data": {
      "text/plain": [
       "-33709.28"
      ]
     },
     "execution_count": 4,
     "metadata": {},
     "output_type": "execute_result"
    }
   ],
   "source": [
    "# Multiplicación\n",
    "23.54 * -1432"
   ]
  },
  {
   "cell_type": "code",
   "execution_count": 5,
   "id": "first-minutes",
   "metadata": {},
   "outputs": [
    {
     "data": {
      "text/plain": [
       "14.285714285714286"
      ]
     },
     "execution_count": 5,
     "metadata": {},
     "output_type": "execute_result"
    }
   ],
   "source": [
    "# División\n",
    "100 / 7"
   ]
  },
  {
   "cell_type": "code",
   "execution_count": 6,
   "id": "surgical-alarm",
   "metadata": {},
   "outputs": [
    {
     "data": {
      "text/plain": [
       "14"
      ]
     },
     "execution_count": 6,
     "metadata": {},
     "output_type": "execute_result"
    }
   ],
   "source": [
    "# Parte entera de la División\n",
    "100 // 7"
   ]
  },
  {
   "cell_type": "code",
   "execution_count": 7,
   "id": "molecular-notification",
   "metadata": {},
   "outputs": [
    {
     "data": {
      "text/plain": [
       "2"
      ]
     },
     "execution_count": 7,
     "metadata": {},
     "output_type": "execute_result"
    }
   ],
   "source": [
    "# Resto de la división\n",
    "100 % 7"
   ]
  },
  {
   "cell_type": "code",
   "execution_count": 8,
   "id": "restricted-printer",
   "metadata": {},
   "outputs": [
    {
     "data": {
      "text/plain": [
       "125"
      ]
     },
     "execution_count": 8,
     "metadata": {},
     "output_type": "execute_result"
    }
   ],
   "source": [
    "# Potenciación\n",
    "5 ** 3"
   ]
  },
  {
   "cell_type": "markdown",
   "id": "successful-cleveland",
   "metadata": {},
   "source": [
    "Como era de esperar, los operadores tienen prioridad sobre otros operadores como y según convenciones matemáticas. Puedes utilizar paréntesis para separar y ordenar cómo se realizan las operaciones. **( ) ** * / % // + -**"
   ]
  },
  {
   "cell_type": "code",
   "execution_count": 9,
   "id": "qualified-advancement",
   "metadata": {},
   "outputs": [
    {
     "data": {
      "text/plain": [
       "1.53125"
      ]
     },
     "execution_count": 9,
     "metadata": {},
     "output_type": "execute_result"
    }
   ],
   "source": [
    "((2 + 5) * (17 - 3)) / (4 ** 3)"
   ]
  },
  {
   "cell_type": "markdown",
   "id": "intense-pavilion",
   "metadata": {},
   "source": [
    "#### Solución de problemas de varios pasos mediante variables\n",
    "\n",
    "Intentemos resolver el siguiente problema:\n",
    "\n",
    "Una tienda de comestibles vende una bolsa de hielo por $1.25 y obtiene un beneficio del 20%. Si vende 500 bolsas de hielo, ¿cuánto beneficio total obtienen?\n",
    "\n",
    "Podemos enumerar la información proporcionada y convertir gradualmente la palabra problema en una expresión matemática que se puede evaluar mediante Python.\n",
    "\n",
    "Coste de la bolsa de hielo ($) = 1.25\n",
    "\n",
    "Margen de beneficio = 20% = .2\n",
    "\n",
    "Beneficio por bolsa ($) = margen de beneficio * costo de la bolsa de hielo = .2 * 1.25\n",
    "\n",
    "Número de bolsas = 500\n",
    "\n",
    "Beneficio total = número de bolsas * beneficio por bolsa = 500 * (.2 * 1.25)"
   ]
  },
  {
   "cell_type": "code",
   "execution_count": 10,
   "id": "interior-transparency",
   "metadata": {},
   "outputs": [
    {
     "data": {
      "text/plain": [
       "125.0"
      ]
     },
     "execution_count": 10,
     "metadata": {},
     "output_type": "execute_result"
    }
   ],
   "source": [
    "500 * (.2 * 1.25)"
   ]
  },
  {
   "cell_type": "markdown",
   "id": "instrumental-gospel",
   "metadata": {},
   "source": [
    "Por lo tanto, la tienda de comestibles obtiene un beneficio total de $125. Si bien esta es una manera razonable de resolver un problema, no está del todo claro mirando la celda de código lo que representan los números. Podemos dar nombres a cada uno de los números mediante la creación de variablesde Python.\n",
    "\n",
    "Mientras se trabaja con un lenguaje de programación como Python, la información se almacena en **variables**. Puede pensar en variables como contenedores para almacenar datos. Los datos almacenados dentro de una variable se denominan su valor."
   ]
  },
  {
   "cell_type": "code",
   "execution_count": 11,
   "id": "proprietary-prince",
   "metadata": {},
   "outputs": [],
   "source": [
    "# Declaremos las variables\n",
    "coste_bolsa_hielo = 1.25\n",
    "margen_beneficio = .2\n",
    "num_bolsas = 500"
   ]
  },
  {
   "cell_type": "markdown",
   "id": "happy-drilling",
   "metadata": {},
   "source": [
    "Las variables ahora contienen los valores proporcionados. Podemos comprobar el valor de una variable escribiendo su nombre en una celda. También podemos combinar variables mediante operaciones aritméticas para crear otras variables.\n",
    "\n",
    "Pista: al escribir el nombre de una variable existente en una celda de código dentro de Jupyter, simplemente escriba los primeros caracteres y presione la tecla \"Tab\" para autocompletar el nombre de la variable. Intente escribir una celda de código a continuación y pulse para autocompletarla."
   ]
  },
  {
   "cell_type": "code",
   "execution_count": 12,
   "id": "spectacular-opera",
   "metadata": {},
   "outputs": [
    {
     "data": {
      "text/plain": [
       "1.25"
      ]
     },
     "execution_count": 12,
     "metadata": {},
     "output_type": "execute_result"
    }
   ],
   "source": [
    "coste_bolsa_hielo"
   ]
  },
  {
   "cell_type": "code",
   "execution_count": 13,
   "id": "deluxe-synthesis",
   "metadata": {},
   "outputs": [
    {
     "data": {
      "text/plain": [
       "0.2"
      ]
     },
     "execution_count": 13,
     "metadata": {},
     "output_type": "execute_result"
    }
   ],
   "source": [
    "margen_beneficio"
   ]
  },
  {
   "cell_type": "code",
   "execution_count": 14,
   "id": "occasional-mozambique",
   "metadata": {},
   "outputs": [
    {
     "data": {
      "text/plain": [
       "500"
      ]
     },
     "execution_count": 14,
     "metadata": {},
     "output_type": "execute_result"
    }
   ],
   "source": [
    "num_bolsas"
   ]
  },
  {
   "cell_type": "code",
   "execution_count": 15,
   "id": "arbitrary-triumph",
   "metadata": {},
   "outputs": [],
   "source": [
    "# Creamos/declaramos la variable margen_benef_por_bolsa\n",
    "margen_benef_por_bolsa = margen_beneficio * coste_bolsa_hielo"
   ]
  },
  {
   "cell_type": "code",
   "execution_count": 16,
   "id": "mighty-feelings",
   "metadata": {},
   "outputs": [
    {
     "data": {
      "text/plain": [
       "0.25"
      ]
     },
     "execution_count": 16,
     "metadata": {},
     "output_type": "execute_result"
    }
   ],
   "source": [
    "margen_benef_por_bolsa"
   ]
  },
  {
   "cell_type": "code",
   "execution_count": 17,
   "id": "vital-raise",
   "metadata": {},
   "outputs": [],
   "source": [
    "# Creamos/declaramos la variable margen_total\n",
    "margen_total = num_bolsas * margen_benef_por_bolsa"
   ]
  },
  {
   "cell_type": "code",
   "execution_count": 18,
   "id": "funny-still",
   "metadata": {},
   "outputs": [
    {
     "data": {
      "text/plain": [
       "125.0"
      ]
     },
     "execution_count": 18,
     "metadata": {},
     "output_type": "execute_result"
    }
   ],
   "source": [
    "margen_total"
   ]
  },
  {
   "cell_type": "markdown",
   "id": "timely-selling",
   "metadata": {},
   "source": [
    "Si intentas ver el valor de una variable que no se ha definido antes, es decir, dado un valor mediante la instrucción, Python mostrará un error (name 'nombre_variable' is not defined)"
   ]
  },
  {
   "cell_type": "code",
   "execution_count": 19,
   "id": "split-latest",
   "metadata": {},
   "outputs": [
    {
     "ename": "NameError",
     "evalue": "name 'Margen_neto' is not defined",
     "output_type": "error",
     "traceback": [
      "\u001b[1;31m---------------------------------------------------------------------------\u001b[0m",
      "\u001b[1;31mNameError\u001b[0m                                 Traceback (most recent call last)",
      "\u001b[1;32m<ipython-input-19-f56b147b214d>\u001b[0m in \u001b[0;36m<module>\u001b[1;34m\u001b[0m\n\u001b[1;32m----> 1\u001b[1;33m \u001b[0mMargen_neto\u001b[0m\u001b[1;33m\u001b[0m\u001b[1;33m\u001b[0m\u001b[0m\n\u001b[0m",
      "\u001b[1;31mNameError\u001b[0m: name 'Margen_neto' is not defined"
     ]
    }
   ],
   "source": [
    "Margen_neto"
   ]
  },
  {
   "cell_type": "markdown",
   "id": "accomplished-access",
   "metadata": {},
   "source": [
    "Almacenar y manipular datos utilizando variables con el nombre adecuado es una excelente manera de explicar lo que hace el código."
   ]
  },
  {
   "cell_type": "markdown",
   "id": "pacific-description",
   "metadata": {},
   "source": [
    "Función **PRINT**: Para exibir la información o resultado de una celda utilizamos la función **\"print\"**.\n",
    "\n",
    "Funciones: Una función es un conjunto reutilizable de instrucciones. Toma una o más entradas, realiza ciertas operaciones y a menudo devuelve una salida. Python proporciona muchas funciones integradas, pero también nos permite definir nuestras propias funciones."
   ]
  },
  {
   "cell_type": "code",
   "execution_count": null,
   "id": "biblical-electron",
   "metadata": {},
   "outputs": [],
   "source": [
    "print(\"La tienda de comestibles obtuvo un beneficio total de $\", margen_total)"
   ]
  },
  {
   "cell_type": "markdown",
   "id": "strange-arthur",
   "metadata": {},
   "source": [
    "Función **PRINT**: La función **PRINT** se utiliza para mostrar información. Se necesitan una o más entradas, que pueden ser texto (entre comillas **simples** o **duplas**), números, variables, expresiones matemáticas, etc. Veremos más adelante sobre variables y funciones en el siguiente tutorial.\n",
    "\n",
    "Crear una celda de código para cada operación de variable o operación matemática puede volverse tedioso. Afortunadamente, Jupyter nos permite escribir varias líneas de código dentro de una sola celda de código y ejecutarlos todos de una sola vez.\n",
    "\n",
    "Reescribamos la solución a nuestro problema de palabras dentro de una sola celda."
   ]
  },
  {
   "cell_type": "code",
   "execution_count": null,
   "id": "korean-cache",
   "metadata": {},
   "outputs": [],
   "source": [
    "# Declaremos las variables\n",
    "coste_bolsa_hielo = 1.25\n",
    "margen_beneficio = .2\n",
    "num_bolsas = 500\n",
    "\n",
    "# Declaremos las variables de resultado realizando los cálculos con las variables anteriores\n",
    "margen_benef_por_bolsa = margen_beneficio * coste_bolsa_hielo\n",
    "margen_total = num_bolsas * margen_benef_por_bolsa\n",
    "\n",
    "# Mostremos en pantalla el resultado\n",
    "print(\"La tienda de comestibles obtuvo un beneficio total de $\", margen_total)"
   ]
  },
  {
   "cell_type": "markdown",
   "id": "czech-association",
   "metadata": {},
   "source": [
    "Recuerda que estamos usando el carácter # para agregar comentarios dentro de nuestro código.\n",
    "\n",
    "**Comentarios**: Los comentarios y las líneas en blanco se ignoran durante la ejecución, pero son útiles para proporcionar información a los seres humanos (incluido usted mismo) sobre lo que hace el código. Los comentarios pueden estar en línea (al final de algún código), en una línea independiente o incluso abarcar varias líneas.\n",
    "\n",
    "Los comentarios en línea y de una sola línea comienzan con #, mientras que los comentarios multilínea comienzan y terminan con tres comillas, es decir. Ejemplo: '''Este es un cometario de varias lineas'''."
   ]
  },
  {
   "cell_type": "code",
   "execution_count": null,
   "id": "medium-jimmy",
   "metadata": {},
   "outputs": [],
   "source": [
    "mi_num_pref = 9 # Este es un comentario de ua sola línea"
   ]
  },
  {
   "cell_type": "code",
   "execution_count": null,
   "id": "behavioral-diagnosis",
   "metadata": {},
   "outputs": [],
   "source": [
    "# Este también es un comentario de una sola línea\n",
    "mi_peor_num = 1"
   ]
  },
  {
   "cell_type": "markdown",
   "id": "essential-guard",
   "metadata": {},
   "source": [
    "\"\"\"Este es un comentario de varias líneas.\n",
    "Escribe lo poco o lo mucho que quieras.\n",
    "\n",
    "Los comentarios son realmente útiles para la gente que lee tu código, pero trate de mantenerlos cortos y al punto.\n",
    "\n",
    "Además, si usas buenos nombres de variables, tu código suele ser un código que se explica por sí mismo, ¡y puede que ni siquiera necesites comentarios!\n",
    "\"\"\"\n",
    "a_número_neutral = 5"
   ]
  },
  {
   "cell_type": "markdown",
   "id": "established-example",
   "metadata": {},
   "source": [
    "#### Evaluación de condiciones mediante Python\n",
    "Además de las operaciones aritméticas, Python también proporciona varias operaciones para comparar números y variables.\n",
    "\n",
    "![Operadores_comparacion](Operadores_comparacion.png)\n",
    "\n",
    "El resultado de una operación de comparación será siempre **True** o **False** (tenga en cuenta las mayúsculas T y F). Estas son palabras clave especiales en Python. Probemos algunos experimentos con operadores de comparación."
   ]
  },
  {
   "cell_type": "code",
   "execution_count": 20,
   "id": "appropriate-alfred",
   "metadata": {},
   "outputs": [],
   "source": [
    "mi_num_fav = 1\n",
    "mi_ultim_num_fav = 5\n",
    "mi_num_neutral = 3"
   ]
  },
  {
   "cell_type": "code",
   "execution_count": 22,
   "id": "digital-absence",
   "metadata": {},
   "outputs": [
    {
     "data": {
      "text/plain": [
       "True"
      ]
     },
     "execution_count": 22,
     "metadata": {},
     "output_type": "execute_result"
    }
   ],
   "source": [
    "# Operación de igualdad - True\n",
    "mi_num_fav == 1"
   ]
  },
  {
   "cell_type": "code",
   "execution_count": 23,
   "id": "cardiac-candidate",
   "metadata": {},
   "outputs": [
    {
     "data": {
      "text/plain": [
       "False"
      ]
     },
     "execution_count": 23,
     "metadata": {},
     "output_type": "execute_result"
    }
   ],
   "source": [
    "# Operación de igualdad - False\n",
    "mi_num_fav == mi_ultim_num_fav"
   ]
  },
  {
   "cell_type": "code",
   "execution_count": 25,
   "id": "structured-advance",
   "metadata": {},
   "outputs": [
    {
     "data": {
      "text/plain": [
       "True"
      ]
     },
     "execution_count": 25,
     "metadata": {},
     "output_type": "execute_result"
    }
   ],
   "source": [
    "# Operación de no igualdad - True\n",
    "mi_num_fav != mi_num_neutral"
   ]
  },
  {
   "cell_type": "code",
   "execution_count": 26,
   "id": "copyrighted-liquid",
   "metadata": {},
   "outputs": [
    {
     "data": {
      "text/plain": [
       "False"
      ]
     },
     "execution_count": 26,
     "metadata": {},
     "output_type": "execute_result"
    }
   ],
   "source": [
    "# Operación de no igualdad - False\n",
    "mi_num_neutral != 3"
   ]
  },
  {
   "cell_type": "code",
   "execution_count": 27,
   "id": "removed-curtis",
   "metadata": {},
   "outputs": [
    {
     "data": {
      "text/plain": [
       "True"
      ]
     },
     "execution_count": 27,
     "metadata": {},
     "output_type": "execute_result"
    }
   ],
   "source": [
    "# Operación de mayor que - True\n",
    "mi_ultim_num_fav > mi_num_neutral"
   ]
  },
  {
   "cell_type": "code",
   "execution_count": 28,
   "id": "exact-thailand",
   "metadata": {},
   "outputs": [
    {
     "data": {
      "text/plain": [
       "False"
      ]
     },
     "execution_count": 28,
     "metadata": {},
     "output_type": "execute_result"
    }
   ],
   "source": [
    "# Operación de mayor que - False\n",
    "mi_num_fav > mi_ultim_num_fav"
   ]
  },
  {
   "cell_type": "code",
   "execution_count": null,
   "id": "previous-hormone",
   "metadata": {},
   "outputs": [],
   "source": []
  }
 ],
 "metadata": {
  "kernelspec": {
   "display_name": "Python 3",
   "language": "python",
   "name": "python3"
  },
  "language_info": {
   "codemirror_mode": {
    "name": "ipython",
    "version": 3
   },
   "file_extension": ".py",
   "mimetype": "text/x-python",
   "name": "python",
   "nbconvert_exporter": "python",
   "pygments_lexer": "ipython3",
   "version": "3.8.5"
  }
 },
 "nbformat": 4,
 "nbformat_minor": 5
}
